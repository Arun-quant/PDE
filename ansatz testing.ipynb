{
 "cells": [
  {
   "cell_type": "code",
   "execution_count": 1,
   "metadata": {},
   "outputs": [],
   "source": [
    "import numpy as np\n",
    "import cirq\n",
    "#import qsimcirq\n",
    "import skquant.opt as skqopt #optimization routines\n",
    "from matplotlib import pyplot as plt #plotting tool"
   ]
  },
  {
   "cell_type": "code",
   "execution_count": 2,
   "metadata": {},
   "outputs": [],
   "source": [
    "class ZGRY4(cirq.Gate):\n",
    "\n",
    "    def __init__(self, thetas, inverse=False):\n",
    "        if (len(thetas)!=15):\n",
    "            raise ValueError(\"thetas must be a list of 15 variational parameters\")\n",
    "        self.thetas=thetas\n",
    "        self.inverse=inverse\n",
    "\n",
    "    def _num_qubits_(self):\n",
    "        #We are required to implement this method, \n",
    "        #it specifies the number of qubits our gate acts on\n",
    "        return 4\n",
    "\n",
    "    def _decompose_(self, q):\n",
    "        #AltSO(4) gate object takes two qubits as input\n",
    "        if (not self.inverse):\n",
    "          # circuit for A1\n",
    "        \n",
    "           # on 1st qubit\n",
    "            yield cirq.ry(self.thetas[0]).on(q[0])\n",
    "           # on 2nd qubit \n",
    "            yield cirq.CNOT(q[0],q[1])\n",
    "            yield cirq.ry(self.thetas[1]).on(q[1])\n",
    "            yield cirq.CNOT(q[0],q[1])\n",
    "            yield cirq.ry(self.thetas[2]).on(q[1])\n",
    "           # on 3rd qubit \n",
    "            yield cirq.CNOT(q[0],q[2])\n",
    "            yield cirq.ry(self.thetas[3]).on(q[2])\n",
    "            yield cirq.CNOT(q[1],q[2])\n",
    "            yield cirq.ry(self.thetas[4]).on(q[2])\n",
    "            yield cirq.CNOT(q[0],q[2])\n",
    "            yield cirq.ry(self.thetas[5]).on(q[2])\n",
    "            yield cirq.CNOT(q[1],q[2])\n",
    "            yield cirq.ry(self.thetas[6]).on(q[2])\n",
    "           # on 4th qubit\n",
    "            yield cirq.CNOT(q[0],q[3])\n",
    "            yield cirq.ry(self.thetas[7]).on(q[3])\n",
    "            yield cirq.CNOT(q[2],q[3])\n",
    "            yield cirq.ry(self.thetas[8]).on(q[3])\n",
    "            yield cirq.CNOT(q[1],q[3])\n",
    "            yield cirq.ry(self.thetas[9]).on(q[3])\n",
    "            yield cirq.CNOT(q[2],q[3])\n",
    "            yield cirq.ry(self.thetas[10]).on(q[3])\n",
    "            yield cirq.CNOT(q[0],q[3])\n",
    "            yield cirq.ry(self.thetas[11]).on(q[3])\n",
    "            yield cirq.CNOT(q[2],q[3])\n",
    "            yield cirq.ry(self.thetas[12]).on(q[3])\n",
    "            yield cirq.CNOT(q[1],q[3])\n",
    "            yield cirq.ry(self.thetas[13]).on(q[3])\n",
    "            yield cirq.CNOT(q[2],q[3])\n",
    "            yield cirq.ry(self.thetas[14]).on(q[3])\n",
    "             \n",
    "    def _unitary_(self):\n",
    "        #Some other method we need in order to get inverses of U to work\n",
    "        #as we will need them in our circuits\n",
    "        return cirq.unitary(cirq.Circuit(self._decompose_(cirq.LineQubit.range(4))))"
   ]
  },
  {
   "cell_type": "code",
   "execution_count": 3,
   "metadata": {},
   "outputs": [],
   "source": [
    "class ZGRZ4(cirq.Gate):\n",
    "\n",
    "    def __init__(self, thetas, inverse=False):\n",
    "        if (len(thetas)!=15):\n",
    "            raise ValueError(\"thetas must be a list of 15 variational parameters\")\n",
    "        self.thetas=thetas\n",
    "        self.inverse=inverse\n",
    "\n",
    "    def _num_qubits_(self):\n",
    "        #We are required to implement this method, \n",
    "        #it specifies the number of qubits our gate acts on\n",
    "        return 4\n",
    "\n",
    "    def _decompose_(self, q):\n",
    "        #AltSO(4) gate object takes two qubits as input\n",
    "        if (not self.inverse):\n",
    "          # circuit for A1\n",
    "        \n",
    "           # on 1st qubit\n",
    "            yield cirq.rz(self.thetas[0]).on(q[0])\n",
    "           # on 2nd qubit \n",
    "            yield cirq.CNOT(q[0],q[1])\n",
    "            yield cirq.rz(self.thetas[1]).on(q[1])\n",
    "            yield cirq.CNOT(q[0],q[1])\n",
    "            yield cirq.rz(self.thetas[2]).on(q[1])\n",
    "           # on 3rd qubit \n",
    "            yield cirq.CNOT(q[0],q[2])\n",
    "            yield cirq.rz(self.thetas[3]).on(q[2])\n",
    "            yield cirq.CNOT(q[1],q[2])\n",
    "            yield cirq.rz(self.thetas[4]).on(q[2])\n",
    "            yield cirq.CNOT(q[0],q[2])\n",
    "            yield cirq.rz(self.thetas[5]).on(q[2])\n",
    "            yield cirq.CNOT(q[1],q[2])\n",
    "            yield cirq.rz(self.thetas[6]).on(q[2])\n",
    "           # on 4th qubit\n",
    "            yield cirq.CNOT(q[0],q[3])\n",
    "            yield cirq.rz(self.thetas[7]).on(q[3])\n",
    "            yield cirq.CNOT(q[2],q[3])\n",
    "            yield cirq.rz(self.thetas[8]).on(q[3])\n",
    "            yield cirq.CNOT(q[1],q[3])\n",
    "            yield cirq.rz(self.thetas[9]).on(q[3])\n",
    "            yield cirq.CNOT(q[2],q[3])\n",
    "            yield cirq.rz(self.thetas[10]).on(q[3])\n",
    "            yield cirq.CNOT(q[0],q[3])\n",
    "            yield cirq.rz(self.thetas[11]).on(q[3])\n",
    "            yield cirq.CNOT(q[2],q[3])\n",
    "            yield cirq.rz(self.thetas[12]).on(q[3])\n",
    "            yield cirq.CNOT(q[1],q[3])\n",
    "            yield cirq.rz(self.thetas[13]).on(q[3])\n",
    "            yield cirq.CNOT(q[2],q[3])\n",
    "            yield cirq.rz(self.thetas[14]).on(q[3])\n",
    "             \n",
    "    def _unitary_(self):\n",
    "        #Some other method we need in order to get inverses of U to work\n",
    "        #as we will need them in our circuits\n",
    "        return cirq.unitary(cirq.Circuit(self._decompose_(cirq.LineQubit.range(4))))"
   ]
  },
  {
   "cell_type": "code",
   "execution_count": 4,
   "metadata": {},
   "outputs": [],
   "source": [
    "class UZGR(cirq.Gate):\n",
    "    def __init__(self, n, d, l, inverse=False):\n",
    "        #n := number of qubits\n",
    "        #d := depth (number of layers)\n",
    "        #l := list of variational parameters. Must be 6*(n-1)*d parameters\n",
    "        #we specify the variational parameter when we declare a U gate object\n",
    "        if (len(l)!=(15)):\n",
    "            raise ValueError(\"Incorrect number of parameters. l must be of length 15*(n-1)*d\")\n",
    "        self.n=n\n",
    "        self.d=d\n",
    "        self.l=l\n",
    "        self.inverse=inverse\n",
    "    \n",
    "    def _decompose_(self, q):\n",
    "        yield ZGRY4(self.l[0:15]).on(q[0:4])\n",
    "        #yield ZGRY4(self.l[15:30]).on(*q[4:8])\n",
    "        #U gate object takes in n qubits as input\n",
    "        #if (not self.inverse):\n",
    "            #for i in range(self.d):\n",
    "                #for j in range(0,self.n-1,4):\n",
    "                    #yield ZGRY4(self.l[0:15]).on(*q[0:4])\n",
    "        \n",
    "                    \n",
    "        \n",
    "    def _num_qubits_(self):\n",
    "        #We are required to implement this method, \n",
    "        #it specifies the number of qubits our gate acts on\n",
    "        return self.n   \n",
    "    \n",
    "    def _unitary_(self):\n",
    "        #Some other method we need in order to get inverses of U to work\n",
    "        #as we will need them in our circuits\n",
    "        return cirq.unitary(cirq.Circuit(self._decompose_(cirq.LineQubit.range(self.n))))\n",
    "    "
   ]
  },
  {
   "cell_type": "code",
   "execution_count": 5,
   "metadata": {},
   "outputs": [],
   "source": [
    "d=1\n",
    "n=10"
   ]
  },
  {
   "cell_type": "code",
   "execution_count": 50,
   "metadata": {},
   "outputs": [],
   "source": [
    "def checkwave(l,d,n):\n",
    "    #create circuit object for adding gates to\n",
    "    circuit = cirq.Circuit()\n",
    "    #specify number of qubits we want in our circuit\n",
    "    q = [cirq.GridQubit(0, i) for i in range(n)]\n",
    "    \n",
    "    #Add our custom gate class U to our circuit and make sure it acts\n",
    "    #on all qubits *q\n",
    "    \n",
    "    circuit.append(ZGRY4(l[1:16]).on(*q[2:6]))\n",
    "    circuit.append(ZGRY4(l[16:31]).on(*q[6:10]))\n",
    "    circuit.append(ZGRY4(l[31:46]).on(*q[4:8]))\n",
    "    circuit.append(ZGRY4(l[46:61]).on(*q[2:6]))\n",
    "    circuit.append(ZGRY4(l[61:76]).on(*q[6:10]))\n",
    "    \n",
    "    #circuit.append(UZGR(n=8,d=1,l=l[16:31]).on(*q[2:]))\n",
    "    \n",
    "    \n",
    "    circuit.append(ZGRZ4(l[76:91]).on(*q[2:6])) \n",
    "    circuit.append(ZGRZ4(l[91:106]).on(*q[6:10]))\n",
    "    circuit.append(ZGRZ4(l[106:121]).on(*q[4:8]))\n",
    "    circuit.append(ZGRZ4(l[121:136]).on(*q[2:6])) \n",
    "    circuit.append(ZGRZ4(l[136:151]).on(*q[6:10]))\n",
    "    \n",
    "    circuit.append(cirq.qft(*q))\n",
    "    \n",
    "    #print(circuit)\n",
    "\n",
    "    #Create simulator object\n",
    "    simulator = cirq.Simulator()\n",
    "    \n",
    "    #Direct wavefunction access\n",
    "    result = simulator.simulate(circuit).state_vector()\n",
    "  \n",
    "    func = l[0]*np.real(result)\n",
    "    return func"
   ]
  },
  {
   "cell_type": "code",
   "execution_count": 49,
   "metadata": {},
   "outputs": [
    {
     "name": "stdout",
     "output_type": "stream",
     "text": [
      "(0, 0): ───────────────────────────────────────────────────────────────────────────────────────────────────────────────────────────────────────────────────────────────────────────────────────────────────────────────────────────────────────────────────────────────────────────────────────────────────qft───\n",
      "                                                                                                                                                                                                                                                                                                           │\n",
      "(0, 1): ───────────────────────────────────────────────────────────────────────────────────────────────────────────────────────────────────────────────────────────────────────────────────────────────────────────────────────────────────────────────────────────────────────────────────────────────────#2────\n",
      "                                                                                                                                                                                                                                                                                                           │\n",
      "(0, 2): ───<__main__.ZGRY4 object at 0x000002370E6955E0>───────────────────────────────────────────────────<__main__.ZGRY4 object at 0x000002370E695E80>───<__main__.ZGRZ4 object at 0x000002370E6D9D60>───────────────────────────────────────────────────<__main__.ZGRZ4 object at 0x000002370E6E9D30>───#3────\n",
      "           │                                                                                               │                                               │                                                                                               │                                               │\n",
      "(0, 3): ───#2──────────────────────────────────────────────────────────────────────────────────────────────#2──────────────────────────────────────────────#2──────────────────────────────────────────────────────────────────────────────────────────────#2──────────────────────────────────────────────#4────\n",
      "           │                                                                                               │                                               │                                                                                               │                                               │\n",
      "(0, 4): ───#3──────────────────────────────────────────────<__main__.ZGRY4 object at 0x000002370E695940>───#3──────────────────────────────────────────────#3──────────────────────────────────────────────<__main__.ZGRZ4 object at 0x000002371292F430>───#3──────────────────────────────────────────────#5────\n",
      "           │                                               │                                               │                                               │                                               │                                               │                                               │\n",
      "(0, 5): ───#4──────────────────────────────────────────────#2──────────────────────────────────────────────#4──────────────────────────────────────────────#4──────────────────────────────────────────────#2──────────────────────────────────────────────#4──────────────────────────────────────────────#6────\n",
      "                                                           │                                                                                                                                               │                                                                                               │\n",
      "(0, 6): ───<__main__.ZGRY4 object at 0x000002370E695970>───#3──────────────────────────────────────────────<__main__.ZGRY4 object at 0x0000023712A681F0>───<__main__.ZGRZ4 object at 0x0000023712A71F70>───#3──────────────────────────────────────────────<__main__.ZGRZ4 object at 0x000002370E6E35E0>───#7────\n",
      "           │                                               │                                               │                                               │                                               │                                               │                                               │\n",
      "(0, 7): ───#2──────────────────────────────────────────────#4──────────────────────────────────────────────#2──────────────────────────────────────────────#2──────────────────────────────────────────────#4──────────────────────────────────────────────#2──────────────────────────────────────────────#8────\n",
      "           │                                                                                               │                                               │                                                                                               │                                               │\n",
      "(0, 8): ───#3──────────────────────────────────────────────────────────────────────────────────────────────#3──────────────────────────────────────────────#3──────────────────────────────────────────────────────────────────────────────────────────────#3──────────────────────────────────────────────#9────\n",
      "           │                                                                                               │                                               │                                                                                               │                                               │\n",
      "(0, 9): ───#4──────────────────────────────────────────────────────────────────────────────────────────────#4──────────────────────────────────────────────#4──────────────────────────────────────────────────────────────────────────────────────────────#4──────────────────────────────────────────────#10───\n"
     ]
    },
    {
     "data": {
      "text/plain": [
       "array([0.3428981 , 0.3622674 , 0.21770377, ..., 0.10377187, 0.0347524 ,\n",
       "       0.16336073], dtype=float32)"
      ]
     },
     "execution_count": 49,
     "metadata": {},
     "output_type": "execute_result"
    }
   ],
   "source": [
    "x0=np.concatenate(([10*np.random.random()],2*np.pi*np.random.rand(150)))\n",
    "checkwave(x0,d,n)"
   ]
  },
  {
   "cell_type": "code",
   "execution_count": 51,
   "metadata": {},
   "outputs": [],
   "source": [
    "def f(l):\n",
    "    x=np.linspace(0,1,2**n)\n",
    "    return np.linalg.norm(checkwave(l,d,n)-np.sin(np.pi*x)-np.sin(2*np.pi*x))**2"
   ]
  },
  {
   "cell_type": "code",
   "execution_count": 52,
   "metadata": {},
   "outputs": [],
   "source": [
    "bounds = [[0,100]] #first bound is lambda0, best choice of bounds usually\n",
    "#depends on number of qubits we are using\n",
    "\n",
    "#the rest of the bounds are the angle theta in Ry(theta)\n",
    "for i in range(150):\n",
    "    bounds.append([0,2*np.pi])"
   ]
  },
  {
   "cell_type": "code",
   "execution_count": 53,
   "metadata": {},
   "outputs": [],
   "source": [
    "budget = 30000"
   ]
  },
  {
   "cell_type": "code",
   "execution_count": 54,
   "metadata": {},
   "outputs": [],
   "source": [
    "x0=np.concatenate(([100*np.random.random()],2*np.pi*np.random.rand(150)))\n",
    "#Optimize using Imfil\n",
    "result, history = skqopt.minimize(f, x0, bounds, budget, method='imfil')"
   ]
  },
  {
   "cell_type": "code",
   "execution_count": 55,
   "metadata": {},
   "outputs": [],
   "source": [
    "linit=result.optpar"
   ]
  },
  {
   "cell_type": "code",
   "execution_count": 56,
   "metadata": {},
   "outputs": [
    {
     "data": {
      "image/png": "[encoded data removed]",
      "text/plain": [
       "<Figure size 432x288 with 1 Axes>"
      ]
     },
     "metadata": {
      "needs_background": "light"
     },
     "output_type": "display_data"
    }
   ],
   "source": [
    "fig = plt.figure()\n",
    "y=np.linspace(0,1,2**n)\n",
    "ax = plt.axes(xlim=(0, 1), ylim=(-1, 2))\n",
    "line, = ax.plot(y, checkwave(linit,d,n), 'r', lw=2)\n",
    "line2, = ax.plot(y, np.sin(np.pi*y)+np.sin(2*np.pi*y))\n",
    "plt.xlabel('x')\n",
    "plt.ylabel('u(x,t=0)')\n",
    "plt.title('Exact sin(πx)+sin(2πx) v.s. QFT Ansatz Approx.')\n",
    "plt.savefig('qftplot.png')"
   ]
  },
  {
   "cell_type": "code",
   "execution_count": 57,
   "metadata": {},
   "outputs": [
    {
     "data": {
      "text/plain": [
       "0.27049089576898894"
      ]
     },
     "execution_count": 57,
     "metadata": {},
     "output_type": "execute_result"
    }
   ],
   "source": [
    "f(linit)"
   ]
  },
  {
   "cell_type": "code",
   "execution_count": null,
   "metadata": {},
   "outputs": [],
   "source": []
  }
 ],
 "metadata": {
  "kernelspec": {
   "display_name": "Python 3",
   "language": "python",
   "name": "python3"
  },
  "language_info": {
   "codemirror_mode": {
    "name": "ipython",
    "version": 3
   },
   "file_extension": ".py",
   "mimetype": "text/x-python",
   "name": "python",
   "nbconvert_exporter": "python",
   "pygments_lexer": "ipython3",
   "version": "3.8.5"
  }
 },
 "nbformat": 4,
 "nbformat_minor": 4
}
