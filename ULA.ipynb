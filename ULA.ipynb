{
  "nbformat": 4,
  "nbformat_minor": 0,
  "metadata": {
    "colab": {
      "name": "ULA.ipynb",
      "provenance": [],
      "authorship_tag": "ABX9TyO2gaDoAeXYv2RhM5/PXycw",
      "include_colab_link": true
    },
    "kernelspec": {
      "name": "python3",
      "display_name": "Python 3"
    }
  },
  "cells": [
    {
      "cell_type": "markdown",
      "metadata": {
        "id": "view-in-github",
        "colab_type": "text"
      },
      "source": [
        "<a href=\"https://colab.research.google.com/github/arunavaangshuman/PDE/blob/main/ULA.ipynb\" target=\"_parent\"><img src=\"https://colab.research.google.com/assets/colab-badge.svg\" alt=\"Open In Colab\"/></a>"
      ]
    },
    {
      "cell_type": "code",
      "metadata": {
        "colab": {
          "base_uri": "https://localhost:8080/",
          "height": 1000
        },
        "id": "PhlxSzuC_4Ai",
        "outputId": "d9b65517-4c43-4b7d-c6d9-a3e8bb3e42fd"
      },
      "source": [
        "!pip install --upgrade pip\n",
        "!pip install cirq"
      ],
      "execution_count": null,
      "outputs": [
        {
          "output_type": "stream",
          "text": [
            "Collecting pip\n",
            "\u001b[?25l  Downloading https://files.pythonhosted.org/packages/fe/ef/60d7ba03b5c442309ef42e7d69959f73aacccd0d86008362a681c4698e83/pip-21.0.1-py3-none-any.whl (1.5MB)\n",
            "\r\u001b[K     |▏                               | 10kB 14.8MB/s eta 0:00:01\r\u001b[K     |▍                               | 20kB 19.3MB/s eta 0:00:01\r\u001b[K     |▋                               | 30kB 7.9MB/s eta 0:00:01\r\u001b[K     |▉                               | 40kB 8.3MB/s eta 0:00:01\r\u001b[K     |█                               | 51kB 4.6MB/s eta 0:00:01\r\u001b[K     |█▎                              | 61kB 5.1MB/s eta 0:00:01\r\u001b[K     |█▌                              | 71kB 5.4MB/s eta 0:00:01\r\u001b[K     |█▊                              | 81kB 5.5MB/s eta 0:00:01\r\u001b[K     |██                              | 92kB 5.0MB/s eta 0:00:01\r\u001b[K     |██▏                             | 102kB 5.4MB/s eta 0:00:01\r\u001b[K     |██▍                             | 112kB 5.4MB/s eta 0:00:01\r\u001b[K     |██▌                             | 122kB 5.4MB/s eta 0:00:01\r\u001b[K     |██▊                             | 133kB 5.4MB/s eta 0:00:01\r\u001b[K     |███                             | 143kB 5.4MB/s eta 0:00:01\r\u001b[K     |███▏                            | 153kB 5.4MB/s eta 0:00:01\r\u001b[K     |███▍                            | 163kB 5.4MB/s eta 0:00:01\r\u001b[K     |███▋                            | 174kB 5.4MB/s eta 0:00:01\r\u001b[K     |███▉                            | 184kB 5.4MB/s eta 0:00:01\r\u001b[K     |████                            | 194kB 5.4MB/s eta 0:00:01\r\u001b[K     |████▎                           | 204kB 5.4MB/s eta 0:00:01\r\u001b[K     |████▌                           | 215kB 5.4MB/s eta 0:00:01\r\u001b[K     |████▊                           | 225kB 5.4MB/s eta 0:00:01\r\u001b[K     |█████                           | 235kB 5.4MB/s eta 0:00:01\r\u001b[K     |█████                           | 245kB 5.4MB/s eta 0:00:01\r\u001b[K     |█████▎                          | 256kB 5.4MB/s eta 0:00:01\r\u001b[K     |█████▌                          | 266kB 5.4MB/s eta 0:00:01\r\u001b[K     |█████▊                          | 276kB 5.4MB/s eta 0:00:01\r\u001b[K     |██████                          | 286kB 5.4MB/s eta 0:00:01\r\u001b[K     |██████▏                         | 296kB 5.4MB/s eta 0:00:01\r\u001b[K     |██████▍                         | 307kB 5.4MB/s eta 0:00:01\r\u001b[K     |██████▋                         | 317kB 5.4MB/s eta 0:00:01\r\u001b[K     |██████▉                         | 327kB 5.4MB/s eta 0:00:01\r\u001b[K     |███████                         | 337kB 5.4MB/s eta 0:00:01\r\u001b[K     |███████▎                        | 348kB 5.4MB/s eta 0:00:01\r\u001b[K     |███████▌                        | 358kB 5.4MB/s eta 0:00:01\r\u001b[K     |███████▋                        | 368kB 5.4MB/s eta 0:00:01\r\u001b[K     |███████▉                        | 378kB 5.4MB/s eta 0:00:01\r\u001b[K     |████████                        | 389kB 5.4MB/s eta 0:00:01\r\u001b[K     |████████▎                       | 399kB 5.4MB/s eta 0:00:01\r\u001b[K     |████████▌                       | 409kB 5.4MB/s eta 0:00:01\r\u001b[K     |████████▊                       | 419kB 5.4MB/s eta 0:00:01\r\u001b[K     |█████████                       | 430kB 5.4MB/s eta 0:00:01\r\u001b[K     |█████████▏                      | 440kB 5.4MB/s eta 0:00:01\r\u001b[K     |█████████▍                      | 450kB 5.4MB/s eta 0:00:01\r\u001b[K     |█████████▋                      | 460kB 5.4MB/s eta 0:00:01\r\u001b[K     |█████████▉                      | 471kB 5.4MB/s eta 0:00:01\r\u001b[K     |██████████                      | 481kB 5.4MB/s eta 0:00:01\r\u001b[K     |██████████▏                     | 491kB 5.4MB/s eta 0:00:01\r\u001b[K     |██████████▍                     | 501kB 5.4MB/s eta 0:00:01\r\u001b[K     |██████████▋                     | 512kB 5.4MB/s eta 0:00:01\r\u001b[K     |██████████▉                     | 522kB 5.4MB/s eta 0:00:01\r\u001b[K     |███████████                     | 532kB 5.4MB/s eta 0:00:01\r\u001b[K     |███████████▎                    | 542kB 5.4MB/s eta 0:00:01\r\u001b[K     |███████████▌                    | 552kB 5.4MB/s eta 0:00:01\r\u001b[K     |███████████▊                    | 563kB 5.4MB/s eta 0:00:01\r\u001b[K     |████████████                    | 573kB 5.4MB/s eta 0:00:01\r\u001b[K     |████████████▏                   | 583kB 5.4MB/s eta 0:00:01\r\u001b[K     |████████████▍                   | 593kB 5.4MB/s eta 0:00:01\r\u001b[K     |████████████▋                   | 604kB 5.4MB/s eta 0:00:01\r\u001b[K     |████████████▊                   | 614kB 5.4MB/s eta 0:00:01\r\u001b[K     |█████████████                   | 624kB 5.4MB/s eta 0:00:01\r\u001b[K     |█████████████▏                  | 634kB 5.4MB/s eta 0:00:01\r\u001b[K     |█████████████▍                  | 645kB 5.4MB/s eta 0:00:01\r\u001b[K     |█████████████▋                  | 655kB 5.4MB/s eta 0:00:01\r\u001b[K     |█████████████▉                  | 665kB 5.4MB/s eta 0:00:01\r\u001b[K     |██████████████                  | 675kB 5.4MB/s eta 0:00:01\r\u001b[K     |██████████████▎                 | 686kB 5.4MB/s eta 0:00:01\r\u001b[K     |██████████████▌                 | 696kB 5.4MB/s eta 0:00:01\r\u001b[K     |██████████████▊                 | 706kB 5.4MB/s eta 0:00:01\r\u001b[K     |███████████████                 | 716kB 5.4MB/s eta 0:00:01\r\u001b[K     |███████████████▏                | 727kB 5.4MB/s eta 0:00:01\r\u001b[K     |███████████████▎                | 737kB 5.4MB/s eta 0:00:01\r\u001b[K     |███████████████▌                | 747kB 5.4MB/s eta 0:00:01\r\u001b[K     |███████████████▊                | 757kB 5.4MB/s eta 0:00:01\r\u001b[K     |████████████████                | 768kB 5.4MB/s eta 0:00:01\r\u001b[K     |████████████████▏               | 778kB 5.4MB/s eta 0:00:01\r\u001b[K     |████████████████▍               | 788kB 5.4MB/s eta 0:00:01\r\u001b[K     |████████████████▋               | 798kB 5.4MB/s eta 0:00:01\r\u001b[K     |████████████████▉               | 808kB 5.4MB/s eta 0:00:01\r\u001b[K     |█████████████████               | 819kB 5.4MB/s eta 0:00:01\r\u001b[K     |█████████████████▎              | 829kB 5.4MB/s eta 0:00:01\r\u001b[K     |█████████████████▌              | 839kB 5.4MB/s eta 0:00:01\r\u001b[K     |█████████████████▊              | 849kB 5.4MB/s eta 0:00:01\r\u001b[K     |█████████████████▉              | 860kB 5.4MB/s eta 0:00:01\r\u001b[K     |██████████████████              | 870kB 5.4MB/s eta 0:00:01\r\u001b[K     |██████████████████▎             | 880kB 5.4MB/s eta 0:00:01\r\u001b[K     |██████████████████▌             | 890kB 5.4MB/s eta 0:00:01\r\u001b[K     |██████████████████▊             | 901kB 5.4MB/s eta 0:00:01\r\u001b[K     |███████████████████             | 911kB 5.4MB/s eta 0:00:01\r\u001b[K     |███████████████████▏            | 921kB 5.4MB/s eta 0:00:01\r\u001b[K     |███████████████████▍            | 931kB 5.4MB/s eta 0:00:01\r\u001b[K     |███████████████████▋            | 942kB 5.4MB/s eta 0:00:01\r\u001b[K     |███████████████████▉            | 952kB 5.4MB/s eta 0:00:01\r\u001b[K     |████████████████████            | 962kB 5.4MB/s eta 0:00:01\r\u001b[K     |████████████████████▎           | 972kB 5.4MB/s eta 0:00:01\r\u001b[K     |████████████████████▍           | 983kB 5.4MB/s eta 0:00:01\r\u001b[K     |████████████████████▋           | 993kB 5.4MB/s eta 0:00:01\r\u001b[K     |████████████████████▉           | 1.0MB 5.4MB/s eta 0:00:01\r\u001b[K     |█████████████████████           | 1.0MB 5.4MB/s eta 0:00:01\r\u001b[K     |█████████████████████▎          | 1.0MB 5.4MB/s eta 0:00:01\r\u001b[K     |█████████████████████▌          | 1.0MB 5.4MB/s eta 0:00:01\r\u001b[K     |█████████████████████▊          | 1.0MB 5.4MB/s eta 0:00:01\r\u001b[K     |██████████████████████          | 1.1MB 5.4MB/s eta 0:00:01\r\u001b[K     |██████████████████████▏         | 1.1MB 5.4MB/s eta 0:00:01\r\u001b[K     |██████████████████████▍         | 1.1MB 5.4MB/s eta 0:00:01\r\u001b[K     |██████████████████████▋         | 1.1MB 5.4MB/s eta 0:00:01\r\u001b[K     |██████████████████████▉         | 1.1MB 5.4MB/s eta 0:00:01\r\u001b[K     |███████████████████████         | 1.1MB 5.4MB/s eta 0:00:01\r\u001b[K     |███████████████████████▏        | 1.1MB 5.4MB/s eta 0:00:01\r\u001b[K     |███████████████████████▍        | 1.1MB 5.4MB/s eta 0:00:01\r\u001b[K     |███████████████████████▋        | 1.1MB 5.4MB/s eta 0:00:01\r\u001b[K     |███████████████████████▉        | 1.1MB 5.4MB/s eta 0:00:01\r\u001b[K     |████████████████████████        | 1.2MB 5.4MB/s eta 0:00:01\r\u001b[K     |████████████████████████▎       | 1.2MB 5.4MB/s eta 0:00:01\r\u001b[K     |████████████████████████▌       | 1.2MB 5.4MB/s eta 0:00:01\r\u001b[K     |████████████████████████▊       | 1.2MB 5.4MB/s eta 0:00:01\r\u001b[K     |█████████████████████████       | 1.2MB 5.4MB/s eta 0:00:01\r\u001b[K     |█████████████████████████▏      | 1.2MB 5.4MB/s eta 0:00:01\r\u001b[K     |█████████████████████████▍      | 1.2MB 5.4MB/s eta 0:00:01\r\u001b[K     |█████████████████████████▌      | 1.2MB 5.4MB/s eta 0:00:01\r\u001b[K     |█████████████████████████▊      | 1.2MB 5.4MB/s eta 0:00:01\r\u001b[K     |██████████████████████████      | 1.2MB 5.4MB/s eta 0:00:01\r\u001b[K     |██████████████████████████▏     | 1.3MB 5.4MB/s eta 0:00:01\r\u001b[K     |██████████████████████████▍     | 1.3MB 5.4MB/s eta 0:00:01\r\u001b[K     |██████████████████████████▋     | 1.3MB 5.4MB/s eta 0:00:01\r\u001b[K     |██████████████████████████▉     | 1.3MB 5.4MB/s eta 0:00:01\r\u001b[K     |███████████████████████████     | 1.3MB 5.4MB/s eta 0:00:01\r\u001b[K     |███████████████████████████▎    | 1.3MB 5.4MB/s eta 0:00:01\r\u001b[K     |███████████████████████████▌    | 1.3MB 5.4MB/s eta 0:00:01\r\u001b[K     |███████████████████████████▊    | 1.3MB 5.4MB/s eta 0:00:01\r\u001b[K     |███████████████████████████▉    | 1.3MB 5.4MB/s eta 0:00:01\r\u001b[K     |████████████████████████████    | 1.4MB 5.4MB/s eta 0:00:01\r\u001b[K     |████████████████████████████▎   | 1.4MB 5.4MB/s eta 0:00:01\r\u001b[K     |████████████████████████████▌   | 1.4MB 5.4MB/s eta 0:00:01\r\u001b[K     |████████████████████████████▊   | 1.4MB 5.4MB/s eta 0:00:01\r\u001b[K     |█████████████████████████████   | 1.4MB 5.4MB/s eta 0:00:01\r\u001b[K     |█████████████████████████████▏  | 1.4MB 5.4MB/s eta 0:00:01\r\u001b[K     |█████████████████████████████▍  | 1.4MB 5.4MB/s eta 0:00:01\r\u001b[K     |█████████████████████████████▋  | 1.4MB 5.4MB/s eta 0:00:01\r\u001b[K     |█████████████████████████████▉  | 1.4MB 5.4MB/s eta 0:00:01\r\u001b[K     |██████████████████████████████  | 1.4MB 5.4MB/s eta 0:00:01\r\u001b[K     |██████████████████████████████▎ | 1.5MB 5.4MB/s eta 0:00:01\r\u001b[K     |██████████████████████████████▍ | 1.5MB 5.4MB/s eta 0:00:01\r\u001b[K     |██████████████████████████████▋ | 1.5MB 5.4MB/s eta 0:00:01\r\u001b[K     |██████████████████████████████▉ | 1.5MB 5.4MB/s eta 0:00:01\r\u001b[K     |███████████████████████████████ | 1.5MB 5.4MB/s eta 0:00:01\r\u001b[K     |███████████████████████████████▎| 1.5MB 5.4MB/s eta 0:00:01\r\u001b[K     |███████████████████████████████▌| 1.5MB 5.4MB/s eta 0:00:01\r\u001b[K     |███████████████████████████████▊| 1.5MB 5.4MB/s eta 0:00:01\r\u001b[K     |████████████████████████████████| 1.5MB 5.4MB/s eta 0:00:01\r\u001b[K     |████████████████████████████████| 1.5MB 5.4MB/s \n",
            "\u001b[?25hInstalling collected packages: pip\n",
            "  Found existing installation: pip 19.3.1\n",
            "    Uninstalling pip-19.3.1:\n",
            "      Successfully uninstalled pip-19.3.1\n",
            "Successfully installed pip-21.0.1\n",
            "Collecting cirq\n",
            "  Downloading cirq-0.10.0-py3-none-any.whl (1.8 MB)\n",
            "\u001b[K     |████████████████████████████████| 1.8 MB 4.5 MB/s \n",
            "\u001b[?25hRequirement already satisfied: matplotlib~=3.0 in /usr/local/lib/python3.7/dist-packages (from cirq) (3.2.2)\n",
            "Requirement already satisfied: numpy~=1.16 in /usr/local/lib/python3.7/dist-packages (from cirq) (1.19.5)\n",
            "Requirement already satisfied: requests~=2.18 in /usr/local/lib/python3.7/dist-packages (from cirq) (2.23.0)\n",
            "Requirement already satisfied: pandas in /usr/local/lib/python3.7/dist-packages (from cirq) (1.1.5)\n",
            "Requirement already satisfied: google-api-core[grpc]<2.0.0dev,>=1.14.0 in /usr/local/lib/python3.7/dist-packages (from cirq) (1.26.1)\n",
            "Requirement already satisfied: scipy in /usr/local/lib/python3.7/dist-packages (from cirq) (1.4.1)\n",
            "Requirement already satisfied: sortedcontainers~=2.0 in /usr/local/lib/python3.7/dist-packages (from cirq) (2.3.0)\n",
            "Requirement already satisfied: networkx~=2.4 in /usr/local/lib/python3.7/dist-packages (from cirq) (2.5)\n",
            "Collecting protobuf~=3.13.0\n",
            "  Downloading protobuf-3.13.0-cp37-cp37m-manylinux1_x86_64.whl (1.3 MB)\n",
            "\u001b[K     |████████████████████████████████| 1.3 MB 20.1 MB/s \n",
            "\u001b[?25hRequirement already satisfied: sympy in /usr/local/lib/python3.7/dist-packages (from cirq) (1.7.1)\n",
            "Requirement already satisfied: tqdm in /usr/local/lib/python3.7/dist-packages (from cirq) (4.41.1)\n",
            "Requirement already satisfied: typing-extensions in /usr/local/lib/python3.7/dist-packages (from cirq) (3.7.4.3)\n",
            "Requirement already satisfied: googleapis-common-protos<2.0dev,>=1.6.0 in /usr/local/lib/python3.7/dist-packages (from google-api-core[grpc]<2.0.0dev,>=1.14.0->cirq) (1.53.0)\n",
            "Requirement already satisfied: six>=1.13.0 in /usr/local/lib/python3.7/dist-packages (from google-api-core[grpc]<2.0.0dev,>=1.14.0->cirq) (1.15.0)\n",
            "Requirement already satisfied: google-auth<2.0dev,>=1.21.1 in /usr/local/lib/python3.7/dist-packages (from google-api-core[grpc]<2.0.0dev,>=1.14.0->cirq) (1.27.1)\n",
            "Requirement already satisfied: packaging>=14.3 in /usr/local/lib/python3.7/dist-packages (from google-api-core[grpc]<2.0.0dev,>=1.14.0->cirq) (20.9)\n",
            "Requirement already satisfied: pytz in /usr/local/lib/python3.7/dist-packages (from google-api-core[grpc]<2.0.0dev,>=1.14.0->cirq) (2018.9)\n",
            "Requirement already satisfied: setuptools>=40.3.0 in /usr/local/lib/python3.7/dist-packages (from google-api-core[grpc]<2.0.0dev,>=1.14.0->cirq) (54.0.0)\n",
            "Requirement already satisfied: grpcio<2.0dev,>=1.29.0 in /usr/local/lib/python3.7/dist-packages (from google-api-core[grpc]<2.0.0dev,>=1.14.0->cirq) (1.32.0)\n",
            "Requirement already satisfied: rsa<5,>=3.1.4 in /usr/local/lib/python3.7/dist-packages (from google-auth<2.0dev,>=1.21.1->google-api-core[grpc]<2.0.0dev,>=1.14.0->cirq) (4.7.2)\n",
            "Requirement already satisfied: cachetools<5.0,>=2.0.0 in /usr/local/lib/python3.7/dist-packages (from google-auth<2.0dev,>=1.21.1->google-api-core[grpc]<2.0.0dev,>=1.14.0->cirq) (4.2.1)\n",
            "Requirement already satisfied: pyasn1-modules>=0.2.1 in /usr/local/lib/python3.7/dist-packages (from google-auth<2.0dev,>=1.21.1->google-api-core[grpc]<2.0.0dev,>=1.14.0->cirq) (0.2.8)\n",
            "Requirement already satisfied: python-dateutil>=2.1 in /usr/local/lib/python3.7/dist-packages (from matplotlib~=3.0->cirq) (2.8.1)\n",
            "Requirement already satisfied: cycler>=0.10 in /usr/local/lib/python3.7/dist-packages (from matplotlib~=3.0->cirq) (0.10.0)\n",
            "Requirement already satisfied: pyparsing!=2.0.4,!=2.1.2,!=2.1.6,>=2.0.1 in /usr/local/lib/python3.7/dist-packages (from matplotlib~=3.0->cirq) (2.4.7)\n",
            "Requirement already satisfied: kiwisolver>=1.0.1 in /usr/local/lib/python3.7/dist-packages (from matplotlib~=3.0->cirq) (1.3.1)\n",
            "Requirement already satisfied: decorator>=4.3.0 in /usr/local/lib/python3.7/dist-packages (from networkx~=2.4->cirq) (4.4.2)\n",
            "Requirement already satisfied: pyasn1<0.5.0,>=0.4.6 in /usr/local/lib/python3.7/dist-packages (from pyasn1-modules>=0.2.1->google-auth<2.0dev,>=1.21.1->google-api-core[grpc]<2.0.0dev,>=1.14.0->cirq) (0.4.8)\n",
            "Requirement already satisfied: certifi>=2017.4.17 in /usr/local/lib/python3.7/dist-packages (from requests~=2.18->cirq) (2020.12.5)\n",
            "Requirement already satisfied: chardet<4,>=3.0.2 in /usr/local/lib/python3.7/dist-packages (from requests~=2.18->cirq) (3.0.4)\n",
            "Requirement already satisfied: idna<3,>=2.5 in /usr/local/lib/python3.7/dist-packages (from requests~=2.18->cirq) (2.10)\n",
            "Requirement already satisfied: urllib3!=1.25.0,!=1.25.1,<1.26,>=1.21.1 in /usr/local/lib/python3.7/dist-packages (from requests~=2.18->cirq) (1.24.3)\n",
            "Requirement already satisfied: mpmath>=0.19 in /usr/local/lib/python3.7/dist-packages (from sympy->cirq) (1.2.1)\n",
            "Installing collected packages: protobuf, cirq\n",
            "  Attempting uninstall: protobuf\n",
            "    Found existing installation: protobuf 3.12.4\n",
            "    Uninstalling protobuf-3.12.4:\n",
            "      Successfully uninstalled protobuf-3.12.4\n",
            "Successfully installed cirq-0.10.0 protobuf-3.13.0\n"
          ],
          "name": "stdout"
        },
        {
          "output_type": "display_data",
          "data": {
            "application/vnd.colab-display-data+json": {
              "pip_warning": {
                "packages": [
                  "google"
                ]
              }
            }
          },
          "metadata": {
            "tags": []
          }
        }
      ]
    },
    {
      "cell_type": "code",
      "metadata": {
        "id": "cqViqUJ8064h"
      },
      "source": [
        "import cirq"
      ],
      "execution_count": null,
      "outputs": []
    },
    {
      "cell_type": "code",
      "metadata": {
        "colab": {
          "base_uri": "https://localhost:8080/"
        },
        "id": "7FsTlRGADEU4",
        "outputId": "05c5e2c2-4bd5-491f-f665-dfa2dfc85146"
      },
      "source": [
        "!pip install -q qsimcirq --quiet"
      ],
      "execution_count": null,
      "outputs": [
        {
          "output_type": "stream",
          "text": [
            "\u001b[K     |████████████████████████████████| 103 kB 5.3 MB/s \n",
            "\u001b[K     |████████████████████████████████| 191 kB 18.7 MB/s \n",
            "\u001b[?25h  Building wheel for qsimcirq (setup.py) ... \u001b[?25l\u001b[?25hdone\n"
          ],
          "name": "stdout"
        }
      ]
    },
    {
      "cell_type": "code",
      "metadata": {
        "id": "eGVrc0hJm4bT"
      },
      "source": [
        "import numpy as np"
      ],
      "execution_count": null,
      "outputs": []
    },
    {
      "cell_type": "code",
      "metadata": {
        "id": "qs_X_W2JD_pl"
      },
      "source": [
        "import numpy as np\n",
        "import cirq\n",
        "\n",
        "#Invertible general SO(4) unitary gate\n",
        "class SO4(cirq.Gate):\n",
        "    #thetas := list of 6 variational parameters for this SO4 block\n",
        "    def __init__(self, thetas, inverse=False):\n",
        "        if (len(thetas)!=6):\n",
        "            raise ValueError(\"thetas must be a list of 6 variational parameters\")\n",
        "        self.thetas=thetas\n",
        "        self.inverse=inverse\n",
        "    \n",
        "    def _decompose_(self, q):\n",
        "        #SO(4) gate object takes two qubits as input\n",
        "        if (not self.inverse):\n",
        "            yield cirq.ry(self.thetas[0]).on(q[0])\n",
        "            yield cirq.ry(self.thetas[1]).on(q[1])\n",
        "            yield cirq.CNOT(q[0], q[1])\n",
        "            yield cirq.ry(self.thetas[2]).on(q[0])\n",
        "            yield cirq.ry(self.thetas[3]).on(q[1])\n",
        "            yield cirq.CNOT(q[0], q[1])\n",
        "            yield cirq.ry(self.thetas[4]).on(q[0])\n",
        "            yield cirq.ry(self.thetas[5]).on(q[1])\n",
        "            \n",
        "        else:\n",
        "            yield cirq.ry(-self.thetas[5]).on(q[1])\n",
        "            yield cirq.ry(-self.thetas[4]).on(q[0])\n",
        "            yield cirq.CNOT(q[0], q[1])\n",
        "            yield cirq.ry(-self.thetas[3]).on(q[1])\n",
        "            yield cirq.ry(-self.thetas[2]).on(q[0])\n",
        "            yield cirq.CNOT(q[0], q[1])\n",
        "            yield cirq.ry(-self.thetas[1]).on(q[1])\n",
        "            yield cirq.ry(-self.thetas[0]).on(q[0])\n",
        "            \n",
        "        \n",
        "    def _num_qubits_(self):\n",
        "        #We are required to implement this method, \n",
        "        #it specifies the number of qubits our gate acts on\n",
        "        return 2\n",
        "    \n",
        "    def _unitary_(self):\n",
        "        #Some other method we need in order to get inverses of U to work\n",
        "        #as we will need them in our circuits\n",
        "        return cirq.unitary(cirq.Circuit(self._decompose_(cirq.LineQubit.range(2))))\n"
      ],
      "execution_count": null,
      "outputs": []
    },
    {
      "cell_type": "code",
      "metadata": {
        "id": "sbf4uS_vEGHO"
      },
      "source": [
        "class AltSO4(cirq.Gate):\n",
        "    #thetas := list of 6 variational parameters for this SO4 block\n",
        "    def __init__(self, thetas, inverse=False):\n",
        "        if (len(thetas)!=6):\n",
        "            raise ValueError(\"thetas must be a list of 6 variational parameters\")\n",
        "        self.thetas=thetas\n",
        "        self.inverse=inverse\n",
        "    \n",
        "    def _decompose_(self, q):\n",
        "        #AltSO(4) gate object takes two qubits as input\n",
        "        if (not self.inverse):\n",
        "            yield cirq.rz(np.pi/2).on(q[0])\n",
        "            yield cirq.rz(np.pi/2).on(q[1])\n",
        "            yield cirq.ry(np.pi/2).on(q[1])\n",
        "            yield cirq.CNOT(q[1], q[0])\n",
        "            yield cirq.rz(self.thetas[0]).on(q[0])\n",
        "            yield cirq.ry(self.thetas[1]).on(q[0])\n",
        "            yield cirq.rz(self.thetas[2]).on(q[0])\n",
        "            yield cirq.rz(self.thetas[3]).on(q[1])\n",
        "            yield cirq.ry(self.thetas[4]).on(q[1])\n",
        "            yield cirq.rz(self.thetas[5]).on(q[1])\n",
        "            yield cirq.CNOT(q[1], q[0])\n",
        "            yield cirq.rz(-np.pi/2).on(q[0])\n",
        "            yield cirq.ry(-np.pi/2).on(q[1])\n",
        "            yield cirq.rz(-np.pi/2).on(q[1])\n",
        "            \n",
        "            \n",
        "        else:\n",
        "            yield cirq.rz(np.pi/2).on(q[0])\n",
        "            yield cirq.rz(np.pi/2).on(q[1])\n",
        "            yield cirq.ry(np.pi/2).on(q[1])\n",
        "            yield cirq.CNOT(q[1], q[0])\n",
        "            yield cirq.rz(-self.thetas[0]).on(q[0])\n",
        "            yield cirq.ry(-self.thetas[1]).on(q[0])\n",
        "            yield cirq.rz(-self.thetas[2]).on(q[0])\n",
        "            yield cirq.rz(-self.thetas[3]).on(q[1])\n",
        "            yield cirq.ry(-self.thetas[4]).on(q[1])\n",
        "            yield cirq.rz(-self.thetas[5]).on(q[1])\n",
        "            yield cirq.CNOT(q[1], q[0])\n",
        "            yield cirq.rz(-np.pi/2).on(q[0])\n",
        "            yield cirq.ry(-np.pi/2).on(q[1])\n",
        "            yield cirq.rz(-np.pi/2).on(q[1])\n",
        "           \n",
        "            \n",
        "        \n",
        "    def _num_qubits_(self):\n",
        "        #We are required to implement this method, \n",
        "        #it specifies the number of qubits our gate acts on\n",
        "        return 2\n",
        "    \n",
        "    def _unitary_(self):\n",
        "        #Some other method we need in order to get inverses of U to work\n",
        "        #as we will need them in our circuits\n",
        "        return cirq.unitary(cirq.Circuit(self._decompose_(cirq.LineQubit.range(2))))\n",
        "    "
      ],
      "execution_count": null,
      "outputs": []
    },
    {
      "cell_type": "code",
      "metadata": {
        "id": "P0EQ3mfxoCp4"
      },
      "source": [
        "#Invertible Universal Layered Ansatz. Acts on n qubits\n",
        "class U(cirq.Gate):\n",
        "    def __init__(self, n, d, l, inverse=False):\n",
        "        #n := number of qubits\n",
        "        #d := depth (number of layers)\n",
        "        #l := list of variational parameters. Must be 6*(n-1)*d parameters\n",
        "        #we specify the variational parameter when we declare a U gate object\n",
        "        if (len(l)!=6*(n-1)*d):\n",
        "            raise ValueError(\"Incorrect number of parameters. l must be of length 6*(n-1)*d\")\n",
        "        self.n=n\n",
        "        self.d=d\n",
        "        self.l=l\n",
        "        self.inverse=inverse\n",
        "    \n",
        "    def _decompose_(self, q):\n",
        "        #U gate object takes in n qubits as input\n",
        "        if (not self.inverse):\n",
        "            for i in range(self.d):\n",
        "                for j in range(0, self.n-1, 2):\n",
        "                    yield AltSO4(self.l[6*(self.n-1)*i+6*j:6*(self.n-1)*i+6*j+6]).on(q[j], q[j+1])\n",
        "                for j in range(1, self.n-1, 2):\n",
        "                    yield AltSO4(self.l[6*(self.n-1)*i+6*j:6*(self.n-1)*i+6*j+6]).on(q[j], q[j+1])\n",
        "        else:\n",
        "            for i in range(self.d-1, -1, -1):\n",
        "                if (n%2==1):\n",
        "                    for j in range(self.n-2, -1, -2):\n",
        "                        yield AltSO4(self.l[6*(self.n-1)*i+6*j:6*(self.n-1)*i+6*j+6], True).on(q[j], q[j+1])\n",
        "                    for j in range(self.n-3, -1, -2):\n",
        "                        yield AltSO4(self.l[6*(self.n-1)*i+6*j:6*(self.n-1)*i+6*j+6], True).on(q[j], q[j+1])\n",
        "                else:\n",
        "                    for j in range(self.n-3, -1, -2):\n",
        "                        yield AltSO4(self.l[6*(self.n-1)*i+6*j:6*(self.n-1)*i+6*j+6], True).on(q[j], q[j+1])\n",
        "                    for j in range(self.n-2, -1, -2):\n",
        "                        yield AltSO4(self.l[6*(self.n-1)*i+6*j:6*(self.n-1)*i+6*j+6], True).on(q[j], q[j+1])\n",
        "                    \n",
        "        \n",
        "    def _num_qubits_(self):\n",
        "        #We are required to implement this method, \n",
        "        #it specifies the number of qubits our gate acts on\n",
        "        return self.n   \n",
        "    \n",
        "    def _unitary_(self):\n",
        "        #Some other method we need in order to get inverses of U to work\n",
        "        #as we will need them in our circuits\n",
        "        return cirq.unitary(cirq.Circuit(self._decompose_(cirq.LineQubit.range(self.n))))\n"
      ],
      "execution_count": null,
      "outputs": []
    },
    {
      "cell_type": "code",
      "metadata": {
        "id": "4IonnSGeoSji"
      },
      "source": [
        "def checkwave(l,d,n):\n",
        "    #create circuit object for adding gates to\n",
        "    circuit = cirq.Circuit()\n",
        "    #specify number of qubits we want in our circuit\n",
        "    q = [cirq.GridQubit(0, i) for i in range(n)]\n",
        "    \n",
        "    #Add our custom gate class U to our circuit and make sure it acts\n",
        "    #on all qubits *q\n",
        "    circuit.append(U(n=n,d=d,l=l[1:d*6*(n-1)+1]).on(*q))\n",
        "    \n",
        "    param=d*6*(n-1)+1\n",
        "    for i in range(n):\n",
        "        circuit.append(cirq.rz(l[param]).on(q[i]))\n",
        "        param+=1\n",
        "    \n",
        "    circuit.append(cirq.qft(*q, without_reverse=True)**-1)\n",
        "    \n",
        "    #Create simulator object\n",
        "    simulator = cirq.Simulator()\n",
        "    \n",
        "    #Direct wavefunction access\n",
        "    result = simulator.simulate(circuit).state_vector()\n",
        "    \n",
        "    #create final state \n",
        "    func = l[0]*np.real(result)\n",
        "    return func"
      ],
      "execution_count": null,
      "outputs": []
    },
    {
      "cell_type": "code",
      "metadata": {
        "id": "SQV_AQQ9ozTQ"
      },
      "source": [
        "d=1\n",
        "n=6"
      ],
      "execution_count": null,
      "outputs": []
    },
    {
      "cell_type": "code",
      "metadata": {
        "id": "OIua1u1po3dH"
      },
      "source": [
        "\n",
        "def f(l):\n",
        "    x=np.linspace(0,1,2**n)\n",
        "    return np.linalg.norm(checkwave(l,d,n)-np.sin(np.pi*x)-np.sin(2*np.pi*x))**2"
      ],
      "execution_count": null,
      "outputs": []
    },
    {
      "cell_type": "code",
      "metadata": {
        "id": "tVWWLbFNo64c"
      },
      "source": [
        "bounds = [[0,15]] #first bound is lambda0, best choice of bounds usually\n",
        "#depends on number of qubits we are using\n",
        "\n",
        "#the rest of the bounds are the angle theta in Ry(theta)\n",
        "for i in range(d*6*(n-1)+n):\n",
        "    bounds.append([0,2*np.pi])"
      ],
      "execution_count": null,
      "outputs": []
    },
    {
      "cell_type": "code",
      "metadata": {
        "id": "sGeUDx2po-L4"
      },
      "source": [
        "budget = 10000"
      ],
      "execution_count": null,
      "outputs": []
    },
    {
      "cell_type": "code",
      "metadata": {
        "colab": {
          "base_uri": "https://localhost:8080/"
        },
        "id": "stVrDEJWphQ1",
        "outputId": "51ccfd5c-c1e0-4fc1-87be-f10c3a86c7f8"
      },
      "source": [
        "!python -m pip install scikit-quant"
      ],
      "execution_count": null,
      "outputs": [
        {
          "output_type": "stream",
          "text": [
            "Collecting scikit-quant\n",
            "  Downloading scikit-quant-0.8.1.tar.gz (20 kB)\n",
            "Collecting SQCommon==0.3.2\n",
            "  Downloading SQCommon-0.3.2.tar.gz (2.9 kB)\n",
            "  Installing build dependencies ... \u001b[?25l\u001b[?25hdone\n",
            "  Getting requirements to build wheel ... \u001b[?25l\u001b[?25hdone\n",
            "    Preparing wheel metadata ... \u001b[?25l\u001b[?25hdone\n",
            "Collecting SQImFil==0.3.7\n",
            "  Downloading SQImFil-0.3.7.tar.gz (27 kB)\n",
            "  Installing build dependencies ... \u001b[?25l\u001b[?25hdone\n",
            "  Getting requirements to build wheel ... \u001b[?25l\u001b[?25hdone\n",
            "    Preparing wheel metadata ... \u001b[?25l\u001b[?25hdone\n",
            "Collecting SQSnobFit==0.4.5\n",
            "  Downloading SQSnobFit-0.4.5.tar.gz (29 kB)\n",
            "  Installing build dependencies ... \u001b[?25l\u001b[?25hdone\n",
            "  Getting requirements to build wheel ... \u001b[?25l\u001b[?25hdone\n",
            "    Preparing wheel metadata ... \u001b[?25l\u001b[?25hdone\n",
            "Collecting Py-BOBYQA>=1.1\n",
            "  Downloading Py-BOBYQA-1.2.tar.gz (37 kB)\n",
            "Requirement already satisfied: numpy in /usr/local/lib/python3.7/dist-packages (from SQCommon==0.3.2->scikit-quant) (1.19.5)\n",
            "Requirement already satisfied: scipy>=0.17 in /usr/local/lib/python3.7/dist-packages (from Py-BOBYQA>=1.1->scikit-quant) (1.4.1)\n",
            "Requirement already satisfied: pandas>=0.17 in /usr/local/lib/python3.7/dist-packages (from Py-BOBYQA>=1.1->scikit-quant) (1.1.5)\n",
            "Requirement already satisfied: pytz>=2017.2 in /usr/local/lib/python3.7/dist-packages (from pandas>=0.17->Py-BOBYQA>=1.1->scikit-quant) (2018.9)\n",
            "Requirement already satisfied: python-dateutil>=2.7.3 in /usr/local/lib/python3.7/dist-packages (from pandas>=0.17->Py-BOBYQA>=1.1->scikit-quant) (2.8.1)\n",
            "Requirement already satisfied: six>=1.5 in /usr/local/lib/python3.7/dist-packages (from python-dateutil>=2.7.3->pandas>=0.17->Py-BOBYQA>=1.1->scikit-quant) (1.15.0)\n",
            "Building wheels for collected packages: scikit-quant, SQCommon, SQImFil, SQSnobFit, Py-BOBYQA\n",
            "  Building wheel for scikit-quant (setup.py) ... \u001b[?25l\u001b[?25hdone\n",
            "  Created wheel for scikit-quant: filename=scikit_quant-0.8.1-py3-none-any.whl size=21419 sha256=ffa44f8efbf90f5ef1cd9e9c612ceb0573989462052069e76a5cd8c0133aafd1\n",
            "  Stored in directory: /root/.cache/pip/wheels/b5/cf/7f/7b8580b82c80315360370967333d349deeab3c51388294d0ce\n",
            "  Building wheel for SQCommon (PEP 517) ... \u001b[?25l\u001b[?25hdone\n",
            "  Created wheel for SQCommon: filename=SQCommon-0.3.2-py3-none-any.whl size=3280 sha256=501d620763deba9a3b71605d016ccb0f0c6f547205af8e8ce93b3608a0e8178d\n",
            "  Stored in directory: /root/.cache/pip/wheels/27/c6/29/d8db0e4d659442259068990da027de2c650d6ff5273b644127\n",
            "  Building wheel for SQImFil (PEP 517) ... \u001b[?25l\u001b[?25hdone\n",
            "  Created wheel for SQImFil: filename=SQImFil-0.3.7-py3-none-any.whl size=29088 sha256=00aa5d5cd90110e03946212e1cc3ad5114dc55923861897939b880665730f7d8\n",
            "  Stored in directory: /root/.cache/pip/wheels/e2/e3/10/3ec9e8ddf93fbe18e2f749206b6d6464047933cabb297a7332\n",
            "  Building wheel for SQSnobFit (PEP 517) ... \u001b[?25l\u001b[?25hdone\n",
            "  Created wheel for SQSnobFit: filename=SQSnobFit-0.4.5-py3-none-any.whl size=43114 sha256=4a7b63315fb17dc5f850f57f85b2d3fcdbb85a8fec56513cb8655b38e045cdc0\n",
            "  Stored in directory: /root/.cache/pip/wheels/89/c7/b8/b21b51f4d21592e6b92644356d3c23d652d2c807d0351550d3\n",
            "  Building wheel for Py-BOBYQA (setup.py) ... \u001b[?25l\u001b[?25hdone\n",
            "  Created wheel for Py-BOBYQA: filename=Py_BOBYQA-1.2-py3-none-any.whl size=42547 sha256=fea7a4b173dabd82f6f7f320e0f4fea9a471085ece1a28ee863d1d984b587c91\n",
            "  Stored in directory: /root/.cache/pip/wheels/c9/fb/ef/bf7593766515173d1445f068802226005de9350a0a8dd0a432\n",
            "Successfully built scikit-quant SQCommon SQImFil SQSnobFit Py-BOBYQA\n",
            "Installing collected packages: SQCommon, SQSnobFit, SQImFil, Py-BOBYQA, scikit-quant\n",
            "Successfully installed Py-BOBYQA-1.2 SQCommon-0.3.2 SQImFil-0.3.7 SQSnobFit-0.4.5 scikit-quant-0.8.1\n"
          ],
          "name": "stdout"
        }
      ]
    },
    {
      "cell_type": "code",
      "metadata": {
        "id": "7bKH9xUFqCFQ"
      },
      "source": [
        "import skquant.opt as skqopt #optimization routines\n",
        "from matplotlib import pyplot as plt #plotting tool"
      ],
      "execution_count": null,
      "outputs": []
    },
    {
      "cell_type": "code",
      "metadata": {
        "id": "iPbaZIMLpA71"
      },
      "source": [
        "x0=np.concatenate(([10*np.random.random()],2*np.pi*np.random.rand(d*6*(n-1)+n)))\n",
        "\n",
        "#Optimize using Imfil\n",
        "result, history = skqopt.minimize(f, x0, bounds, budget, method='imfil')"
      ],
      "execution_count": null,
      "outputs": []
    },
    {
      "cell_type": "code",
      "metadata": {
        "colab": {
          "base_uri": "https://localhost:8080/"
        },
        "id": "7ZrJnU16pDfx",
        "outputId": "cc68cddb-c6c2-4122-8a77-839025cafe89"
      },
      "source": [
        "print(cirq.unitary(cirq.rz(-np.pi/2)))"
      ],
      "execution_count": null,
      "outputs": [
        {
          "output_type": "stream",
          "text": [
            "[[0.70710678+0.70710678j 0.        +0.j        ]\n",
            " [0.        +0.j         0.70710678-0.70710678j]]\n"
          ],
          "name": "stdout"
        }
      ]
    },
    {
      "cell_type": "code",
      "metadata": {
        "id": "Wqbamc8yG9RE"
      },
      "source": [
        "linit=result.optpar"
      ],
      "execution_count": null,
      "outputs": []
    },
    {
      "cell_type": "code",
      "metadata": {
        "colab": {
          "base_uri": "https://localhost:8080/",
          "height": 295
        },
        "id": "t0pfNruof_Fe",
        "outputId": "fb6433b8-f5da-4ec5-964f-6aadc44c42a6"
      },
      "source": [
        "fig = plt.figure()\n",
        "y=np.linspace(0,1,2**n)\n",
        "ax = plt.axes(xlim=(0, 1), ylim=(-1, 2))\n",
        "line, = ax.plot(y, checkwave(linit,d,n), 'r', lw=2)\n",
        "line2, = ax.plot(y, np.sin(np.pi*y)+np.sin(2*np.pi*y))\n",
        "plt.xlabel('x')\n",
        "plt.ylabel('u(x,t=0)')\n",
        "plt.title('Exact sin(πx)+sin(2πx) v.s. QFT Ansatz Approx.')\n",
        "plt.savefig('qftplot.png')"
      ],
      "execution_count": null,
      "outputs": [
        {
          "output_type": "display_data",
          "data": {
            "image/png": "[encoded data removed]",
            "text/plain": [
              "<Figure size 432x288 with 1 Axes>"
            ]
          },
          "metadata": {
            "tags": [],
            "needs_background": "light"
          }
        }
      ]
    },
    {
      "cell_type": "code",
      "metadata": {
        "colab": {
          "base_uri": "https://localhost:8080/"
        },
        "id": "c0qWvFNdgDD0",
        "outputId": "fd888cfc-5cfc-405e-e577-25810352fa24"
      },
      "source": [
        "np.linalg.norm(checkwave(linit,d,n)-np.sin(np.pi*y)-np.sin(2*np.pi*y))"
      ],
      "execution_count": null,
      "outputs": [
        {
          "output_type": "execute_result",
          "data": {
            "text/plain": [
              "0.22265063368620935"
            ]
          },
          "metadata": {
            "tags": []
          },
          "execution_count": 59
        }
      ]
    },
    {
      "cell_type": "code",
      "metadata": {
        "colab": {
          "base_uri": "https://localhost:8080/",
          "height": 295
        },
        "id": "DZh5wW4dgJTc",
        "outputId": "4a3f0fa0-7e1c-474f-f68f-4e6894baf633"
      },
      "source": [
        "#with out inverse QFT\n",
        "fig = plt.figure()\n",
        "y=np.linspace(0,1,2**n)\n",
        "ax = plt.axes(xlim=(0, 1), ylim=(-1, 2))\n",
        "line, = ax.plot(y, checkwave(linit,d,n), 'r', lw=2)\n",
        "line2, = ax.plot(y, np.sin(np.pi*y)+np.sin(2*np.pi*y))\n",
        "plt.xlabel('x')\n",
        "plt.ylabel('u(x,t=0)')\n",
        "plt.title('Exact sin(πx)+sin(2πx) v.s. QFT Ansatz Approx.')\n",
        "plt.savefig('qftplot.png')"
      ],
      "execution_count": null,
      "outputs": [
        {
          "output_type": "display_data",
          "data": {
            "image/png": "[encoded data removed]",
            "text/plain": [
              "<Figure size 432x288 with 1 Axes>"
            ]
          },
          "metadata": {
            "tags": [],
            "needs_background": "light"
          }
        }
      ]
    },
    {
      "cell_type": "code",
      "metadata": {
        "colab": {
          "base_uri": "https://localhost:8080/"
        },
        "id": "ijQzEuz0khGx",
        "outputId": "5ac314f7-0d94-49fe-cde8-73db68f49f33"
      },
      "source": [
        "np.linalg.norm(checkwave(linit,d,n)-np.sin(np.pi*y)-np.sin(2*np.pi*y))"
      ],
      "execution_count": null,
      "outputs": [
        {
          "output_type": "execute_result",
          "data": {
            "text/plain": [
              "5.015375012851139"
            ]
          },
          "metadata": {
            "tags": []
          },
          "execution_count": 18
        }
      ]
    },
    {
      "cell_type": "code",
      "metadata": {
        "id": "i1daGOu8kmiX",
        "colab": {
          "base_uri": "https://localhost:8080/"
        },
        "outputId": "a1caca4d-9d23-4482-bd90-6ad146e9d062"
      },
      "source": [
        "print(cirq.unitary(cirq.X))"
      ],
      "execution_count": null,
      "outputs": [
        {
          "output_type": "stream",
          "text": [
            "[[0.+0.j 1.+0.j]\n",
            " [1.+0.j 0.+0.j]]\n"
          ],
          "name": "stdout"
        }
      ]
    },
    {
      "cell_type": "code",
      "metadata": {
        "id": "jfm8CFKCpFAF"
      },
      "source": [
        ""
      ],
      "execution_count": null,
      "outputs": []
    }
  ]
}