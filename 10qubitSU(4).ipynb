{
  "nbformat": 4,
  "nbformat_minor": 0,
  "metadata": {
    "colab": {
      "name": "10qubitSU(4).ipynb",
      "provenance": [],
      "collapsed_sections": [],
      "authorship_tag": "ABX9TyNctppdsLBhzhMsteOh+XTt",
      "include_colab_link": true
    },
    "kernelspec": {
      "name": "python3",
      "display_name": "Python 3"
    },
    "language_info": {
      "name": "python"
    }
  },
  "cells": [
    {
      "cell_type": "markdown",
      "metadata": {
        "id": "view-in-github",
        "colab_type": "text"
      },
      "source": [
        "<a href=\"https://colab.research.google.com/github/arunavaangshuman/PDE/blob/main/10qubitSU(4).ipynb\" target=\"_parent\"><img src=\"https://colab.research.google.com/assets/colab-badge.svg\" alt=\"Open In Colab\"/></a>"
      ]
    },
    {
      "cell_type": "code",
      "metadata": {
        "id": "DsTotPvWTcTm"
      },
      "source": [
        "!pip install --upgrade pip\n",
        "!pip install cirq\n",
        "!pip install -q qsimcirq --quiet\n",
        "!python -m pip install scikit-quant"
      ],
      "execution_count": null,
      "outputs": []
    },
    {
      "cell_type": "code",
      "metadata": {
        "id": "9UK3l_raR_yY"
      },
      "source": [
        "# auther - Arunava"
      ],
      "execution_count": null,
      "outputs": []
    },
    {
      "cell_type": "code",
      "metadata": {
        "id": "Oemg5E0hTkGg"
      },
      "source": [
        "import numpy as np\n",
        "import cirq\n",
        "import skquant.opt as skqopt #optimization routines\n",
        "from matplotlib import pyplot as plt #plotting tool"
      ],
      "execution_count": null,
      "outputs": []
    },
    {
      "cell_type": "code",
      "metadata": {
        "id": "-eYg48tDWfH5"
      },
      "source": [
        "# creating SU(4) to compare with SO(4) and SU(4) includes imaginary terms also\n",
        "class SU4(cirq.Gate):\n",
        "\n",
        "    def __init__(self, thetas, inverse=False):\n",
        "        if (len(thetas)!=15):\n",
        "            raise ValueError(\"thetas must be a list of 15 variational parameters\")\n",
        "        self.thetas=thetas\n",
        "        self.inverse=inverse\n",
        "\n",
        "    def _num_qubits_(self):\n",
        "        #We are required to implement this method, \n",
        "        #it specifies the number of qubits our gate acts on\n",
        "        return 2\n",
        "\n",
        "    def _decompose_(self, q):\n",
        "        #AltSO(4) gate object takes two qubits as input\n",
        "        if (not self.inverse):\n",
        "          # circuit for A1\n",
        "            yield cirq.rz(self.thetas[0]).on(q[0])\n",
        "            yield cirq.ry(self.thetas[1]).on(q[0])\n",
        "            yield cirq.rz(self.thetas[2]).on(q[0])\n",
        "            yield cirq.rz(self.thetas[3]).on(q[1])\n",
        "            yield cirq.ry(self.thetas[4]).on(q[1])\n",
        "            yield cirq.rz(self.thetas[5]).on(q[1])\n",
        "            yield cirq.CNOT(q[1], q[0])\n",
        "            yield cirq.rz(self.thetas[6]).on(q[0])\n",
        "            yield cirq.ry(self.thetas[7]).on(q[1])\n",
        "            yield cirq.CNOT(q[0], q[1])\n",
        "            yield cirq.ry(self.thetas[8]).on(q[1]) \n",
        "            yield cirq.CNOT(q[1], q[0]) \n",
        "            yield cirq.rz(self.thetas[9]).on(q[0])\n",
        "            yield cirq.ry(self.thetas[10]).on(q[0])\n",
        "            yield cirq.rz(self.thetas[11]).on(q[0])\n",
        "            yield cirq.rz(self.thetas[12]).on(q[1])\n",
        "            yield cirq.ry(self.thetas[13]).on(q[1])\n",
        "            yield cirq.rz(self.thetas[14]).on(q[1])\n",
        "            \n",
        "        else:\n",
        "            yield cirq.rz(-self.thetas[14]).on(q[1])\n",
        "            yield cirq.ry(-self.thetas[13]).on(q[1])\n",
        "            yield cirq.rz(-self.thetas[12]).on(q[1])\n",
        "            yield cirq.rz(-self.thetas[11]).on(q[0])\n",
        "            yield cirq.ry(-self.thetas[10]).on(q[0])\n",
        "            yield cirq.rz(-self.thetas[9]).on(q[0])\n",
        "            yield cirq.CNOT(q[1], q[0])\n",
        "            yield cirq.rz(-self.thetas[8]).on(q[1])\n",
        "            yield cirq.ry(-self.thetas[7]).on(q[1])\n",
        "            yield cirq.CNOT(q[0], q[1])\n",
        "            yield cirq.ry(-self.thetas[6]).on(q[0]) \n",
        "            yield cirq.CNOT(q[1], q[0]) \n",
        "            yield cirq.rz(-self.thetas[5]).on(q[1])\n",
        "            yield cirq.ry(-self.thetas[4]).on(q[1])\n",
        "            yield cirq.rz(-self.thetas[3]).on(q[1])\n",
        "            yield cirq.rz(-self.thetas[2]).on(q[0])\n",
        "            yield cirq.ry(-self.thetas[1]).on(q[0])\n",
        "            yield cirq.rz(-self.thetas[0]).on(q[0])\n",
        "             \n",
        "    def _unitary_(self):\n",
        "        #Some other method we need in order to get inverses of U to work\n",
        "        #as we will need them in our circuits\n",
        "        return cirq.unitary(cirq.Circuit(self._decompose_(cirq.LineQubit.range(2))))\n",
        "    \n"
      ],
      "execution_count": null,
      "outputs": []
    },
    {
      "cell_type": "code",
      "metadata": {
        "id": "0jPEI-G7Wk9I"
      },
      "source": [
        "class U(cirq.Gate):\n",
        "    def __init__(self, n, d, l, inverse=False):\n",
        "        #n := number of qubits\n",
        "        #d := depth (number of layers)\n",
        "        #l := list of variational parameters. Must be 6*(n-1)*d parameters\n",
        "        #we specify the variational parameter when we declare a U gate object\n",
        "        if (len(l)!=(15*(8-1)*d)):\n",
        "            raise ValueError(\"Incorrect number of parameters. l must be of length 15*(n-1)*d\")\n",
        "        self.n=n\n",
        "        self.d=d\n",
        "        self.l=l\n",
        "        self.inverse=inverse\n",
        "    \n",
        "    def _decompose_(self, q):\n",
        "        #U gate object takes in n qubits as input\n",
        "        if (not self.inverse):\n",
        "            for i in range(self.d):\n",
        "                for j in range(0, self.n-1, 2):\n",
        "                    yield SU4(self.l[15*(self.n-1)*i+15*j:15*(self.n-1)*i+15*j+15]).on(q[j], q[j+1])\n",
        "                for j in range(1, self.n-1, 2):\n",
        "                    yield SU4(self.l[15*(self.n-1)*i+15*j:15*(self.n-1)*i+15*j+15]).on(q[j], q[j+1])\n",
        "        else:\n",
        "            for i in range(self.d-1, -1, -1):\n",
        "                if (n%2==1):\n",
        "                    for j in range(self.n-2, -1, -2):\n",
        "                        yield SU4(self.l[15*(self.n-1)*i+15*j:15*(self.n-1)*i+15*j+15], True).on(q[j], q[j+1])\n",
        "                    for j in range(self.n-3, -1, -2):\n",
        "                        yield SU4(self.l[15*(self.n-1)*i+15*j:15*(self.n-1)*i+15*j+15], True).on(q[j], q[j+1])\n",
        "                else:\n",
        "                    for j in range(self.n-3, -1, -2):\n",
        "                        yield SU4(self.l[15*(self.n-1)*i+15*j:15*(self.n-1)*i+15*j+15], True).on(q[j], q[j+1])\n",
        "                    for j in range(self.n-2, -1, -2):\n",
        "                        yield SU4(self.l[15*(self.n-1)*i+15*j:15*(self.n-1)*i+15*j+15], True).on(q[j], q[j+1])\n",
        "                    \n",
        "        \n",
        "    def _num_qubits_(self):\n",
        "        #We are required to implement this method, \n",
        "        #it specifies the number of qubits our gate acts on\n",
        "        return self.n   \n",
        "    \n",
        "    def _unitary_(self):\n",
        "        #Some other method we need in order to get inverses of U to work\n",
        "        #as we will need them in our circuits\n",
        "        return cirq.unitary(cirq.Circuit(self._decompose_(cirq.LineQubit.range(self.n))))"
      ],
      "execution_count": null,
      "outputs": []
    },
    {
      "cell_type": "code",
      "metadata": {
        "id": "aCOz_-jntKkN"
      },
      "source": [
        "#creating SU(2) gate instead of Rz given in task list to see what advantage/ disadvantage it provides\n",
        "class SU2(cirq.Gate):\n",
        "    def __init__(self, thetas, inverse=False):\n",
        "        if (len(thetas)!=3):\n",
        "            raise ValueError(\"thetas must be a list of 3 variational parameters\")\n",
        "        self.thetas=thetas\n",
        "        self.inverse=inverse\n",
        "\n",
        "    def _num_qubits_(self):\n",
        "        return 1\n",
        "\n",
        "    def  decompose(self, q):\n",
        "        if (not self.inverse):\n",
        "            yield cirq.rz(self.thetas[0]).on(*q)\n",
        "            yield cirq.ry(self.thetas[1]).on(*q)\n",
        "            yield cirq.rz(self.thetas[2]).on(*q)\n",
        "            \n",
        "            \n",
        "        else:\n",
        "\n",
        "            yield cirq.rz(-self.thetas[2]).on(*q)\n",
        "            yield cirq.ry(-self.thetas[1]).on(*q)\n",
        "            yield cirq.rz(-self.thetas[0]).on(*q)\n",
        "        \n",
        "    def _unitary_(self):\n",
        "        #Some other method we need in order to get inverses of U to work\n",
        "        #as we will need them in our circuits\n",
        "        return cirq.unitary(cirq.Circuit(self._decompose_(cirq.LineQubit.range(1))))                 "
      ],
      "execution_count": null,
      "outputs": []
    },
    {
      "cell_type": "code",
      "metadata": {
        "id": "1J86L-y_WqXc"
      },
      "source": [
        "d=2\n",
        "n=10"
      ],
      "execution_count": null,
      "outputs": []
    },
    {
      "cell_type": "code",
      "metadata": {
        "id": "P17AP_mIWtdR"
      },
      "source": [
        "def checkwave(l,d,n):\n",
        "    #create circuit object for adding gates to\n",
        "    circuit = cirq.Circuit()\n",
        "    #specify number of qubits we want in our circuit\n",
        "    q = [cirq.GridQubit(0, i) for i in range(n)]\n",
        "    \n",
        "    #Add our custom gate class U to our circuit and make sure it acts\n",
        "    #on all qubits *q\n",
        "    \n",
        "    circuit.append(U(n=8,d=2,l=l[1:d*15*(8-1)+1]).on(*q[2:]))\n",
        "    \n",
        "    param=d*15*(8-1)+1\n",
        "    #for i in range(4,n):\n",
        "    #    circuit.append(cirq.rz(l[param]).on(q[i]))\n",
        "    #    param+=1\n",
        "    count=0\n",
        "   # for i in range(4,10):\n",
        "   #     circuit.append(SU2(l[param:param+i-(1+count)])).on(q[i])\n",
        "   #     param+=param+3  \n",
        "   #     count=count+1  \n",
        "\n",
        "    for i in range(2,n):\n",
        "      for j in range(1):\n",
        "        circuit.append(cirq.rz(l[param+j]).on(q[i]))\n",
        "        circuit.append(cirq.ry(l[param+j+1]).on(q[i]))\n",
        "        circuit.append(cirq.rz(l[param+j+2]).on(q[i]))\n",
        "      param+=3 \n",
        "    circuit.append(cirq.qft(*q))\n",
        "    \n",
        "\n",
        "    #Create simulator object\n",
        "    simulator = cirq.Simulator()\n",
        "    \n",
        "    #Direct wavefunction access\n",
        "    result = simulator.simulate(circuit).state_vector()\n",
        "    \n",
        "    #create final state \n",
        "    func = l[0]*np.real(result)\n",
        "    return func"
      ],
      "execution_count": null,
      "outputs": []
    },
    {
      "cell_type": "code",
      "metadata": {
        "colab": {
          "base_uri": "https://localhost:8080/"
        },
        "id": "PrZoAtakJX50",
        "outputId": "e4331712-0bee-4c86-99d8-78e91ca4720b"
      },
      "source": [
        "x0=np.concatenate(([10*np.random.random()],2*np.pi*np.random.rand(d*15*(8-1)+24)))\n",
        "checkwave(x0,d,n)"
      ],
      "execution_count": null,
      "outputs": [
        {
          "output_type": "execute_result",
          "data": {
            "text/plain": [
              "array([ 0.07407113, -0.01629636,  0.04182548, ...,  0.18566962,\n",
              "        0.18058567,  0.16138919], dtype=float32)"
            ]
          },
          "metadata": {
            "tags": []
          },
          "execution_count": 10
        }
      ]
    },
    {
      "cell_type": "code",
      "metadata": {
        "id": "tZs2ZU8mWx2x"
      },
      "source": [
        "def f(l):\n",
        "    x=np.linspace(0,1,2**n)\n",
        "    return np.linalg.norm(checkwave(l,d,n)-np.sin(np.pi*x)-np.sin(2*np.pi*x))**2"
      ],
      "execution_count": null,
      "outputs": []
    },
    {
      "cell_type": "code",
      "metadata": {
        "id": "2xL-OuZ3W3cg"
      },
      "source": [
        "bounds = [[0,136]] #first bound is lambda0, best choice of bounds usually\n",
        "#depends on number of qubits we are using\n",
        "\n",
        "#the rest of the bounds are the angle theta in Ry(theta)\n",
        "for i in range(d*15*(8-1)+24):\n",
        "    bounds.append([0,2*np.pi])"
      ],
      "execution_count": null,
      "outputs": []
    },
    {
      "cell_type": "code",
      "metadata": {
        "id": "MipN6EJdW4XO"
      },
      "source": [
        "budget = 30000"
      ],
      "execution_count": null,
      "outputs": []
    },
    {
      "cell_type": "code",
      "metadata": {
        "id": "d6IeirAKW9yT"
      },
      "source": [
        "#x0=np.concatenate(([35*np.random.random()],2*np.pi*np.random.rand(d*15*(6-1)+6)))\n",
        "\n",
        "# below one is for SU(2)\n",
        "x0=np.concatenate(([136*np.random.random()],2*np.pi*np.random.rand(d*15*(8-1)+24)))\n",
        "#Optimize using Imfil\n",
        "result, history = skqopt.minimize(f, x0, bounds, budget, method='imfil')"
      ],
      "execution_count": null,
      "outputs": []
    },
    {
      "cell_type": "code",
      "metadata": {
        "id": "Xab-TMUyW-11"
      },
      "source": [
        "linit=result.optpar"
      ],
      "execution_count": null,
      "outputs": []
    },
    {
      "cell_type": "code",
      "metadata": {
        "colab": {
          "base_uri": "https://localhost:8080/",
          "height": 269
        },
        "id": "BDqi2rGgXDdG",
        "outputId": "4faa5a53-a748-436b-bed2-7564de64a655"
      },
      "source": [
        "fig = plt.figure()\n",
        "y=np.linspace(0,1,2**n)\n",
        "ax = plt.axes(xlim=(0, 1), ylim=(-0.5, 2))\n",
        "line, = ax.plot(y, checkwave(linit,d,n), 'r', lw=2)"
      ],
      "execution_count": null,
      "outputs": [
        {
          "output_type": "display_data",
          "data": {
            "image/png": "[encoded data removed]",
            "text/plain": [
              "<Figure size 432x288 with 1 Axes>"
            ]
          },
          "metadata": {
            "tags": [],
            "needs_background": "light"
          }
        }
      ]
    },
    {
      "cell_type": "code",
      "metadata": {
        "colab": {
          "base_uri": "https://localhost:8080/",
          "height": 295
        },
        "id": "8QR_g7gj_SJH",
        "outputId": "d42aabc6-74ca-4842-9ab4-a5d2a782eaac"
      },
      "source": [
        "# using SU2\n",
        "fig = plt.figure()\n",
        "y=np.linspace(0,1,2**n)\n",
        "ax = plt.axes(xlim=(0, 1), ylim=(-1, 2))\n",
        "line, = ax.plot(y, checkwave(linit,d,n), 'r', lw=2)\n",
        "line2, = ax.plot(y, np.sin(np.pi*y)+np.sin(2*np.pi*y))\n",
        "plt.xlabel('x')\n",
        "plt.ylabel('u(x,t=0)')\n",
        "plt.title('Exact sin(πx)+sin(2πx) v.s. QFT Ansatz Approx.')\n",
        "plt.savefig('qftplot.png')"
      ],
      "execution_count": null,
      "outputs": [
        {
          "output_type": "display_data",
          "data": {
            "image/png": "[encoded data removed]",
            "text/plain": [
              "<Figure size 432x288 with 1 Axes>"
            ]
          },
          "metadata": {
            "tags": [],
            "needs_background": "light"
          }
        }
      ]
    },
    {
      "cell_type": "code",
      "metadata": {
        "id": "7PaXSuxBk8j7",
        "colab": {
          "base_uri": "https://localhost:8080/",
          "height": 295
        },
        "outputId": "0505b436-4da5-486a-f7af-510fce2b71b2"
      },
      "source": [
        "# using SU2 + d=2, n=8 takes 51 m , bounds=[0,135]\n",
        "fig = plt.figure()\n",
        "y=np.linspace(0,1,2**n)\n",
        "ax = plt.axes(xlim=(0, 1), ylim=(-1, 2))\n",
        "line, = ax.plot(y, checkwave(linit,d,n), 'r', lw=2)\n",
        "line2, = ax.plot(y, np.sin(np.pi*y)+np.sin(2*np.pi*y))\n",
        "plt.xlabel('x')\n",
        "plt.ylabel('u(x,t=0)')\n",
        "plt.title('Exact sin(πx)+sin(2πx) v.s. QFT Ansatz Approx.')\n",
        "plt.savefig('qftplot.png')"
      ],
      "execution_count": null,
      "outputs": [
        {
          "output_type": "display_data",
          "data": {
            "image/png": "[encoded data removed]",
            "text/plain": [
              "<Figure size 432x288 with 1 Axes>"
            ]
          },
          "metadata": {
            "tags": [],
            "needs_background": "light"
          }
        }
      ]
    },
    {
      "cell_type": "code",
      "metadata": {
        "colab": {
          "base_uri": "https://localhost:8080/",
          "height": 295
        },
        "id": "_sh3dcxx1UA6",
        "outputId": "6497dd95-a350-48ad-8789-8af1335ff34b"
      },
      "source": [
        "# using SU2 + d=2, n=8 takes 42m 8s\n",
        "fig = plt.figure()\n",
        "y=np.linspace(0,1,2**n)\n",
        "ax = plt.axes(xlim=(0, 1), ylim=(-1, 2))\n",
        "line, = ax.plot(y, checkwave(linit,d,n), 'r', lw=2)\n",
        "line2, = ax.plot(y, np.sin(np.pi*y)+np.sin(2*np.pi*y))\n",
        "plt.xlabel('x')\n",
        "plt.ylabel('u(x,t=0)')\n",
        "plt.title('Exact sin(πx)+sin(2πx) v.s. QFT Ansatz Approx.')\n",
        "plt.savefig('qftplot.png')"
      ],
      "execution_count": null,
      "outputs": [
        {
          "output_type": "display_data",
          "data": {
            "image/png": "[encoded data removed]",
            "text/plain": [
              "<Figure size 432x288 with 1 Axes>"
            ]
          },
          "metadata": {
            "tags": [],
            "needs_background": "light"
          }
        }
      ]
    },
    {
      "cell_type": "code",
      "metadata": {
        "id": "L_h0h3nA1Z8w",
        "colab": {
          "base_uri": "https://localhost:8080/"
        },
        "outputId": "33305a78-c5c2-403f-df6a-c22ba1d32653"
      },
      "source": [
        "f(linit)"
      ],
      "execution_count": null,
      "outputs": [
        {
          "output_type": "execute_result",
          "data": {
            "text/plain": [
              "0.388064628734556"
            ]
          },
          "metadata": {
            "tags": []
          },
          "execution_count": 88
        }
      ]
    },
    {
      "cell_type": "code",
      "metadata": {
        "id": "V-zsUgJ7HB5_"
      },
      "source": [
        ""
      ],
      "execution_count": null,
      "outputs": []
    }
  ]
}