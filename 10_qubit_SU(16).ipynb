{
  "nbformat": 4,
  "nbformat_minor": 0,
  "metadata": {
    "colab": {
      "name": "10 qubit SU(16).ipynb",
      "provenance": [],
      "include_colab_link": true
    },
    "kernelspec": {
      "name": "python3",
      "display_name": "Python 3"
    },
    "language_info": {
      "name": "python"
    }
  },
  "cells": [
    {
      "cell_type": "markdown",
      "metadata": {
        "id": "view-in-github",
        "colab_type": "text"
      },
      "source": [
        "<a href=\"https://colab.research.google.com/github/arunavaangshuman/PDE/blob/main/10_qubit_SU(16).ipynb\" target=\"_parent\"><img src=\"https://colab.research.google.com/assets/colab-badge.svg\" alt=\"Open In Colab\"/></a>"
      ]
    },
    {
      "cell_type": "code",
      "metadata": {
        "id": "_mWVIVRifQVd"
      },
      "source": [
        "!pip install --upgrade pip\n",
        "!pip install cirq\n",
        "!pip install -q qsimcirq --quiet"
      ],
      "execution_count": null,
      "outputs": []
    },
    {
      "cell_type": "code",
      "metadata": {
        "id": "PeaHeER8hfXp"
      },
      "source": [
        "!pip install -q qsimcirq --quiet\n",
        "!python -m pip install scikit-quant\n"
      ],
      "execution_count": null,
      "outputs": []
    },
    {
      "cell_type": "code",
      "metadata": {
        "id": "jLYQc3WefTE4"
      },
      "source": [
        "import numpy as np\n",
        "import cirq\n",
        "import qsimcirq\n",
        "import skquant.opt as skqopt #optimization routines\n",
        "from matplotlib import pyplot as plt #plotting tool"
      ],
      "execution_count": null,
      "outputs": []
    },
    {
      "cell_type": "code",
      "metadata": {
        "id": "SPaU2qMYiJsG"
      },
      "source": [
        "# creating SU(4) to compare with SO(4) and SU(4) includes imaginary terms also\n",
        "class SU4(cirq.Gate):\n",
        "\n",
        "    def __init__(self, thetas, inverse=False):\n",
        "        if (len(thetas)!=15):\n",
        "            raise ValueError(\"thetas must be a list of 15 variational parameters\")\n",
        "        self.thetas=thetas\n",
        "        self.inverse=inverse\n",
        "\n",
        "    def _num_qubits_(self):\n",
        "        #We are required to implement this method, \n",
        "        #it specifies the number of qubits our gate acts on\n",
        "        return 2\n",
        "\n",
        "    def _decompose_(self, q):\n",
        "        #SU(4) gate object takes two qubits as input\n",
        "        if (not self.inverse):\n",
        "          \n",
        "            yield cirq.rz(self.thetas[0]).on(q[0])\n",
        "            yield cirq.ry(self.thetas[1]).on(q[0])\n",
        "            yield cirq.rz(self.thetas[2]).on(q[0])\n",
        "            yield cirq.rz(self.thetas[3]).on(q[1])\n",
        "            yield cirq.ry(self.thetas[4]).on(q[1])\n",
        "            yield cirq.rz(self.thetas[5]).on(q[1])\n",
        "            yield cirq.CNOT(q[1], q[0])\n",
        "            yield cirq.rz(self.thetas[6]).on(q[0])\n",
        "            yield cirq.ry(self.thetas[7]).on(q[1])\n",
        "            yield cirq.CNOT(q[0], q[1])\n",
        "            yield cirq.ry(self.thetas[8]).on(q[1]) \n",
        "            yield cirq.CNOT(q[1], q[0]) \n",
        "            yield cirq.rz(self.thetas[9]).on(q[0])\n",
        "            yield cirq.ry(self.thetas[10]).on(q[0])\n",
        "            yield cirq.rz(self.thetas[11]).on(q[0])\n",
        "            yield cirq.rz(self.thetas[12]).on(q[1])\n",
        "            yield cirq.ry(self.thetas[13]).on(q[1])\n",
        "            yield cirq.rz(self.thetas[14]).on(q[1])\n",
        "            \n",
        "        else:\n",
        "            yield cirq.rz(-self.thetas[14]).on(q[1])\n",
        "            yield cirq.ry(-self.thetas[13]).on(q[1])\n",
        "            yield cirq.rz(-self.thetas[12]).on(q[1])\n",
        "            yield cirq.rz(-self.thetas[11]).on(q[0])\n",
        "            yield cirq.ry(-self.thetas[10]).on(q[0])\n",
        "            yield cirq.rz(-self.thetas[9]).on(q[0])\n",
        "            yield cirq.CNOT(q[1], q[0])\n",
        "            yield cirq.rz(-self.thetas[8]).on(q[1])\n",
        "            yield cirq.ry(-self.thetas[7]).on(q[1])\n",
        "            yield cirq.CNOT(q[0], q[1])\n",
        "            yield cirq.ry(-self.thetas[6]).on(q[0]) \n",
        "            yield cirq.CNOT(q[1], q[0]) \n",
        "            yield cirq.rz(-self.thetas[5]).on(q[1])\n",
        "            yield cirq.ry(-self.thetas[4]).on(q[1])\n",
        "            yield cirq.rz(-self.thetas[3]).on(q[1])\n",
        "            yield cirq.rz(-self.thetas[2]).on(q[0])\n",
        "            yield cirq.ry(-self.thetas[1]).on(q[0])\n",
        "            yield cirq.rz(-self.thetas[0]).on(q[0])\n",
        "             \n",
        "    def _unitary_(self):\n",
        "        #Some other method we need in order to get inverses of U to work\n",
        "        #as we will need them in our circuits\n",
        "        return cirq.unitary(cirq.Circuit(self._decompose_(cirq.LineQubit.range(2))))\n",
        "    \n"
      ],
      "execution_count": null,
      "outputs": []
    },
    {
      "cell_type": "code",
      "metadata": {
        "id": "Ma5AEia6iWg_"
      },
      "source": [
        "class Schmidt_decomposition(cirq.Gate):\n",
        "\n",
        "  def __init__(self, thetas, inverse=False):\n",
        "        if (len(thetas)!=9):\n",
        "            raise ValueError(\"thetas must be a list of 9 variational parameters\")\n",
        "        self.thetas=thetas\n",
        "        self.inverse=inverse\n",
        "\n",
        "  def _num_qubits_(self):\n",
        "        #We are required to implement this method, \n",
        "        #it specifies the number of qubits our gate acts on\n",
        "        return 2\n",
        "\n",
        "  def _decompose_(self, q):\n",
        "     \n",
        "        if (not self.inverse):\n",
        "          \n",
        "            yield cirq.rz(self.thetas[0]).on(q[0])\n",
        "            yield cirq.ry(self.thetas[1]).on(q[0])\n",
        "            yield cirq.rz(self.thetas[2]).on(q[0])\n",
        "            yield cirq.CNOT(q[0], q[1])\n",
        "            yield cirq.rz(self.thetas[3]).on(q[0])\n",
        "            yield cirq.ry(self.thetas[4]).on(q[0])\n",
        "            yield cirq.rz(self.thetas[5]).on(q[0])\n",
        "            yield cirq.rz(self.thetas[6]).on(q[1])\n",
        "            yield cirq.ry(self.thetas[7]).on(q[1])\n",
        "            yield cirq.rz(self.thetas[8]).on(q[1])\n",
        "            \n",
        "        else:\n",
        "            yield cirq.rz(-self.thetas[8]).on(q[1])\n",
        "            yield cirq.ry(-self.thetas[7]).on(q[1])\n",
        "            yield cirq.rz(-self.thetas[6]).on(q[1])\n",
        "            yield cirq.rz(-self.thetas[5]).on(q[0])\n",
        "            yield cirq.ry(-self.thetas[4]).on(q[0])\n",
        "            yield cirq.rz(-self.thetas[3]).on(q[0])\n",
        "            yield cirq.CNOT(q[0], q[1])\n",
        "            yield cirq.rz(-self.thetas[2]).on(q[0])\n",
        "            yield cirq.ry(-self.thetas[1]).on(q[0])\n",
        "            yield cirq.rz(-self.thetas[0]).on(q[0])\n",
        "            \n",
        "\n",
        "  def _unitary_(self):\n",
        "        #Some other method we need in order to get inverses of U to work\n",
        "        #as we will need them in our circuits\n",
        "        return cirq.unitary(cirq.Circuit(self._decompose_(cirq.LineQubit.range(2))))                 \n"
      ],
      "execution_count": null,
      "outputs": []
    },
    {
      "cell_type": "code",
      "metadata": {
        "id": "r1p7mAt11hOb"
      },
      "source": [
        "class U(cirq.Gate):\n",
        "    def __init__(self, n, d, l, inverse=False):\n",
        "        #n := number of qubits\n",
        "        #d := depth (number of layers)\n",
        "        #l := list of variational parameters. Must be 15*2*d parameters for SU(4)+ 9 for Schmidt decomposition\n",
        "        #we specify the variational parameter when we declare a U gate object\n",
        "        if (len(l)!=(39)):\n",
        "            raise ValueError(\"Incorrect number of parameters. l must be of length 39\")\n",
        "        self.n=n\n",
        "        self.d=d\n",
        "        self.l=l\n",
        "        self.inverse=inverse\n",
        "    \n",
        "    def _decompose_(self, q):\n",
        "        #U gate object takes in n qubits as input\n",
        "        for i in range(self.d):\n",
        "                for j in range(0, self.n-1, 5):\n",
        "                    yield Schmidt_decomposition(self.l[9*(self.n-1)*i+9*j:9*(self.n-1)*i+9*j+9]).on(q[j], q[j+1])\n",
        "              \n",
        "        for i in range(self.d):\n",
        "                for j in range(0, self.n-1, 2):\n",
        "                    yield SU4(self.l[15*(self.n-1)*i+15*j+9:15*(self.n-1)*i+15*j+15+9]).on(q[j], q[j+1])\n",
        "     \n",
        "    def _num_qubits_(self):\n",
        "        #We are required to implement this method, \n",
        "        #it specifies the number of qubits our gate acts on\n",
        "        return self.n   \n",
        "    \n",
        "    def _unitary_(self):\n",
        "        #Some other method we need in order to get inverses of U to work\n",
        "        #as we will need them in our circuits\n",
        "        return cirq.unitary(cirq.Circuit(self._decompose_(cirq.LineQubit.range(self.n))))"
      ],
      "execution_count": null,
      "outputs": []
    },
    {
      "cell_type": "code",
      "metadata": {
        "id": "np9rNxEgUKyF"
      },
      "source": [
        "class U1(cirq.Gate):\n",
        "    def __init__(self, n, d, l, inverse=False):\n",
        "        #n := number of qubits\n",
        "        #d := depth (number of layers)\n",
        "        #l := list of variational parameters. Must be 78 parameters\n",
        "        #we specify the variational parameter when we declare a U gate object\n",
        "        if (len(l)!=(78)):\n",
        "            raise ValueError(\"Incorrect number of parameters. l must be of length 78\")\n",
        "        self.n=n\n",
        "        self.d=d\n",
        "        self.l=l\n",
        "        self.inverse=inverse\n",
        "    \n",
        "    def _decompose_(self, q):\n",
        "        #U gate object takes in n qubits as input\n",
        "        param=0\n",
        "        for i in range(self.d):\n",
        "               \n",
        "                for j in range(0, self.n-1, 4):\n",
        "                 \n",
        "                    yield Schmidt_decomposition(self.l[param:param+9]).on(q[j], q[j+1])\n",
        "                    param=param+9\n",
        "                for j in range(0, self.n-1, 2):\n",
        "                    yield SU4(self.l[param:param+15]).on(q[j], q[j+1])\n",
        "                    param=param+15\n",
        "        \n",
        "    def _num_qubits_(self):\n",
        "        #We are required to implement this method, \n",
        "        #it specifies the number of qubits our gate acts on\n",
        "        return self.n   \n",
        "    \n",
        "    def _unitary_(self):\n",
        "        #Some other method we need in order to get inverses of U to work\n",
        "        #as we will need them in our circuits\n",
        "        return cirq.unitary(cirq.Circuit(self._decompose_(cirq.LineQubit.range(self.n))))"
      ],
      "execution_count": null,
      "outputs": []
    },
    {
      "cell_type": "code",
      "metadata": {
        "id": "MHF9t2tT_0DU"
      },
      "source": [
        "d=1\n",
        "n=10"
      ],
      "execution_count": null,
      "outputs": []
    },
    {
      "cell_type": "code",
      "metadata": {
        "id": "hiITz838_19h"
      },
      "source": [
        "def checkwave(l,d,n):\n",
        "    #create circuit object for adding gates to\n",
        "    circuit = cirq.Circuit()\n",
        "    #specify number of qubits we want in our circuit\n",
        "    q = [cirq.GridQubit(0, i) for i in range(n)]\n",
        "    \n",
        "    #Add our custom gate class U to our circuit and make sure it acts\n",
        "    #on all qubits *q\n",
        "    \n",
        "    circuit.append(U1(n=8,d=1,l=l[1:79]).on(*q[2:]))\n",
        "    #circuit.append(U1(n=4,d=1,l=l[40:79]).on(*q[6:10]))\n",
        "    \n",
        "    param=79\n",
        "    #for i in range(4,n):\n",
        "    #    circuit.append(cirq.rz(l[param]).on(q[i]))\n",
        "    #    param+=1\n",
        "\n",
        "   # for i in range(4,10):\n",
        "   #     circuit.append(SU2(l[param:param+i-(1+count)])).on(q[i])\n",
        "   #     param+=param+3  \n",
        "   #     count=count+1  \n",
        "\n",
        "    for i in range(2,n):\n",
        "      for j in range(1):\n",
        "        circuit.append(cirq.rz(l[param+j]).on(q[i]))\n",
        "        circuit.append(cirq.ry(l[param+j+1]).on(q[i]))\n",
        "        circuit.append(cirq.rz(l[param+j+2]).on(q[i]))\n",
        "      param+=3 \n",
        "    circuit.append(cirq.qft(*q))\n",
        "\n",
        "    #print(circuit)\n",
        "\n",
        "    #Create simulator object\n",
        "    #simulator = cirq.Simulator()\n",
        "    \n",
        "    #Direct wavefunction access\n",
        "    #result = simulator.simulate(circuit).state_vector()\n",
        "    \n",
        "    #using qsim simulator\n",
        "    qsimSim = qsimcirq.QSimSimulator()\n",
        "    result =          qsimSim.simulate(circuit).state_vector()\n",
        "    #create final state \n",
        "    func = l[0]*np.real(result)\n",
        "    return func"
      ],
      "execution_count": null,
      "outputs": []
    },
    {
      "cell_type": "code",
      "metadata": {
        "id": "2v0A2XvzkleG"
      },
      "source": [
        "def gaussian(x, mu, sig):\n",
        "    return np.exp(-np.power(x - mu, 2.) / (2 * np.power(sig, 2.)))\n",
        "\n",
        "def element_butterfly(S, loss, profit, strike, sstrike):\n",
        "    if (strike>=sstrike or profit<=loss):\n",
        "        raise ValueError(\"Impossible args\")\n",
        "        \n",
        "    def outer(S):\n",
        "        return loss\n",
        "\n",
        "    def pos(S):\n",
        "        return loss+(profit-loss)*(S-strike)/(sstrike-strike)\n",
        "    \n",
        "    def neg(S):\n",
        "        return profit - (profit-loss)*(S-sstrike)/(sstrike-strike)\n",
        "    \n",
        "    if (S <= strike or S>(2*sstrike-strike)):\n",
        "        return outer(S)\n",
        "    \n",
        "    if ((S>strike) and (S<=sstrike)):\n",
        "        return pos(S)\n",
        "    \n",
        "    if ((S>sstrike) and (S<=(2*sstrike-strike))):\n",
        "        return neg(S)\n",
        "\n",
        "\n",
        "'''\n",
        "Function to generate f(S) where f is the butterfly call option, and S is\n",
        "a numpy array corresponding to the value of the stock at each point.\n",
        "loss= minimum option price (usually  negative)\n",
        "profit= peak option price\n",
        "strike= strike price (stock price when option's value starts to grow')\n",
        "sstrike= sell strike price (stock price when option's value reaches peak (profit)')\n",
        "returns: numpy array\n",
        "'''\n",
        "def butterfly(S, loss, profit, strike, sstrike):\n",
        "    return np.vectorize(element_butterfly, otypes=\"f\")(S, loss, profit, strike, sstrike)\n",
        "\n",
        "'''\n",
        "Function to generate f(x), where f is the butterfly call option, and x is\n",
        "the natural log of stock price S\n",
        "returns: numpy array\n",
        "'''\n",
        "def trans_butterfly(x, loss, profit, strike, sstrike):\n",
        "    return butterfly(np.exp(x), loss, profit, strike, sstrike)\n"
      ],
      "execution_count": null,
      "outputs": []
    },
    {
      "cell_type": "code",
      "metadata": {
        "colab": {
          "base_uri": "https://localhost:8080/"
        },
        "id": "tEE77p9KD_JR",
        "outputId": "3cf126d0-1751-4907-97c6-0e9749fa542e"
      },
      "source": [
        "x0=np.concatenate(([10*np.random.random()],2*np.pi*np.random.rand(78+24)))\n",
        "checkwave(x0,d,n)"
      ],
      "execution_count": null,
      "outputs": [
        {
          "output_type": "stream",
          "text": [
            "(0, 0): ───────────────────────────────────────────────────────────────────────────────────qft───\n",
            "                                                                                           │\n",
            "(0, 1): ───────────────────────────────────────────────────────────────────────────────────#2────\n",
            "                                                                                           │\n",
            "(0, 2): ───<__main__.U1 object at 0x7f850ab487d0>───Rz(0.988π)───Ry(1.89π)────Rz(0.728π)───#3────\n",
            "           │                                                                               │\n",
            "(0, 3): ───#2───────────────────────────────────────Rz(0.516π)───Ry(1.5π)─────Rz(1.7π)─────#4────\n",
            "           │                                                                               │\n",
            "(0, 4): ───#3───────────────────────────────────────Rz(1.07π)────Ry(0.266π)───Rz(1.95π)────#5────\n",
            "           │                                                                               │\n",
            "(0, 5): ───#4───────────────────────────────────────Rz(0.755π)───Ry(1.67π)────Rz(1.65π)────#6────\n",
            "           │                                                                               │\n",
            "(0, 6): ───#5───────────────────────────────────────Rz(1.22π)────Ry(0.259π)───Rz(0.25π)────#7────\n",
            "           │                                                                               │\n",
            "(0, 7): ───#6───────────────────────────────────────Rz(0.515π)───Ry(1.74π)────Rz(1.76π)────#8────\n",
            "           │                                                                               │\n",
            "(0, 8): ───#7───────────────────────────────────────Rz(1.79π)────Ry(0.384π)───Rz(0.419π)───#9────\n",
            "           │                                                                               │\n",
            "(0, 9): ───#8───────────────────────────────────────Rz(0.045π)───Ry(1.8π)─────Rz(1.69π)────#10───\n"
          ],
          "name": "stdout"
        },
        {
          "output_type": "execute_result",
          "data": {
            "text/plain": [
              "array([ 0.00548055,  0.01687936,  0.00234412, ...,  0.06937549,\n",
              "       -0.00924767, -0.02222939], dtype=float32)"
            ]
          },
          "metadata": {
            "tags": []
          },
          "execution_count": 101
        }
      ]
    },
    {
      "cell_type": "code",
      "metadata": {
        "id": "Sr0Gk1MTHkMJ"
      },
      "source": [
        "a=[1,0,12,1]"
      ],
      "execution_count": null,
      "outputs": []
    },
    {
      "cell_type": "code",
      "metadata": {
        "colab": {
          "base_uri": "https://localhost:8080/"
        },
        "id": "0ZSXw-CDHmab",
        "outputId": "00f084d2-454d-47e8-e161-d2394b4bfd1d"
      },
      "source": [
        "a[0:4]"
      ],
      "execution_count": null,
      "outputs": [
        {
          "output_type": "execute_result",
          "data": {
            "text/plain": [
              "[1, 0, 12, 1]"
            ]
          },
          "metadata": {
            "tags": []
          },
          "execution_count": 34
        }
      ]
    },
    {
      "cell_type": "code",
      "metadata": {
        "id": "jp8He04kHpA3"
      },
      "source": [
        "def f(l):\n",
        "    x=np.linspace(0,1,2**n)\n",
        "    return np.linalg.norm(checkwave(l,d,n)-np.sin(np.pi*x)-np.sin(2*np.pi*x))**2"
      ],
      "execution_count": null,
      "outputs": []
    },
    {
      "cell_type": "code",
      "metadata": {
        "id": "O8gnupR-k0Ab"
      },
      "source": [
        "def c(l):\n",
        "    x=np.linspace(0, 2.3, 2**n)\n",
        "    # f is changeble if want to take gaussian then we can replace trans_butter... by gaussian or sin if sin is needed\n",
        "    # simply take functions \n",
        "    f=trans_butterfly(x, -5, 10, 2, 5)\n",
        "    return np.linalg.norm(checkwave(l,d,n)-f)**2"
      ],
      "execution_count": null,
      "outputs": []
    },
    {
      "cell_type": "code",
      "metadata": {
        "id": "NaEh7Gl6xOpt"
      },
      "source": [
        "bounds = [[0,280]] #first bound is lambda0, best choice of bounds usually\n",
        "#depends on number of qubits we are using\n",
        "\n",
        "#the rest of the bounds are the angle theta in Ry(theta)\n",
        "for i in range(78+24):\n",
        "    bounds.append([0,2*np.pi])"
      ],
      "execution_count": null,
      "outputs": []
    },
    {
      "cell_type": "code",
      "metadata": {
        "id": "FNHNyhYWxWio"
      },
      "source": [
        "budget = 30000"
      ],
      "execution_count": null,
      "outputs": []
    },
    {
      "cell_type": "code",
      "metadata": {
        "id": "DhNQasDgxZa-"
      },
      "source": [
        "x0=np.concatenate(([150*np.random.random()],2*np.pi*np.random.rand(78+24)))\n",
        "#Optimize using Imfil\n",
        "result, history = skqopt.minimize(f, x0, bounds, budget, method='imfil')"
      ],
      "execution_count": null,
      "outputs": []
    },
    {
      "cell_type": "code",
      "metadata": {
        "id": "0OkGgc2Wk_kT"
      },
      "source": [
        "x0=np.concatenate(([280*np.random.random()],2*np.pi*np.random.rand(78+24)))\n",
        "\n",
        "#Optimize using Imfil\n",
        "result, history = skqopt.minimize(c, x0, bounds, budget, method='imfil')"
      ],
      "execution_count": null,
      "outputs": []
    },
    {
      "cell_type": "code",
      "metadata": {
        "id": "-0X1EIK1lVbr"
      },
      "source": [
        "clinit=result.optpar"
      ],
      "execution_count": null,
      "outputs": []
    },
    {
      "cell_type": "code",
      "metadata": {
        "id": "xP8UV_7exhyn"
      },
      "source": [
        "linit=result.optpar"
      ],
      "execution_count": null,
      "outputs": []
    },
    {
      "cell_type": "code",
      "metadata": {
        "colab": {
          "base_uri": "https://localhost:8080/",
          "height": 295
        },
        "id": "IumQHirLxli3",
        "outputId": "db2a9509-ab44-4a3b-ba4c-e66463800776"
      },
      "source": [
        "# using SU2 + d=1, n=10 takes  , bounds=[0,150]\n",
        "fig = plt.figure()\n",
        "y=np.linspace(0,1,2**n)\n",
        "ax = plt.axes(xlim=(0, 1), ylim=(-1, 2))\n",
        "line, = ax.plot(y, checkwave(linit,d,n), 'r', lw=2)\n",
        "line2, = ax.plot(y, np.sin(np.pi*y)+np.sin(2*np.pi*y))\n",
        "plt.xlabel('x')\n",
        "plt.ylabel('u(x,t=0)')\n",
        "plt.title('Exact sin(πx)+sin(2πx) v.s. QFT Ansatz Approx.')\n",
        "plt.savefig('qftplot.png')"
      ],
      "execution_count": null,
      "outputs": [
        {
          "output_type": "display_data",
          "data": {
            "image/png": "[encoded data removed]",
            "text/plain": [
              "<Figure size 432x288 with 1 Axes>"
            ]
          },
          "metadata": {
            "tags": [],
            "needs_background": "light"
          }
        }
      ]
    },
    {
      "cell_type": "code",
      "metadata": {
        "colab": {
          "base_uri": "https://localhost:8080/",
          "height": 295
        },
        "id": "xVKpjBIWF6jf",
        "outputId": "2ed2d172-45e6-4d85-f2cf-a02a560c3ff2"
      },
      "source": [
        "# using SU2 + d=1, n=10 takes  , bounds=[0,150], using qsim simulator\n",
        "fig = plt.figure()\n",
        "y=np.linspace(0,1,2**n)\n",
        "ax = plt.axes(xlim=(0, 1), ylim=(-1, 2))\n",
        "line, = ax.plot(y, checkwave(linit,d,n), 'r', lw=2)\n",
        "line2, = ax.plot(y, np.sin(np.pi*y)+np.sin(2*np.pi*y))\n",
        "plt.xlabel('x')\n",
        "plt.ylabel('u(x,t=0)')\n",
        "plt.title('Exact sin(πx)+sin(2πx) v.s. QFT Ansatz Approx.')\n",
        "plt.savefig('qftplot.png')"
      ],
      "execution_count": null,
      "outputs": [
        {
          "output_type": "display_data",
          "data": {
            "image/png": "[encoded data removed]",
            "text/plain": [
              "<Figure size 432x288 with 1 Axes>"
            ]
          },
          "metadata": {
            "tags": [],
            "needs_background": "light"
          }
        }
      ]
    },
    {
      "cell_type": "code",
      "metadata": {
        "colab": {
          "base_uri": "https://localhost:8080/"
        },
        "id": "SKX9i-pH1uJR",
        "outputId": "49a4064b-3f0d-4474-fbb1-dcff9ea5a495"
      },
      "source": [
        "f(linit)"
      ],
      "execution_count": null,
      "outputs": [
        {
          "output_type": "execute_result",
          "data": {
            "text/plain": [
              "0.3867844469418731"
            ]
          },
          "metadata": {
            "tags": []
          },
          "execution_count": 97
        }
      ]
    },
    {
      "cell_type": "code",
      "metadata": {
        "colab": {
          "base_uri": "https://localhost:8080/"
        },
        "id": "h2kI6JGf1vRq",
        "outputId": "6b3c53a8-add5-4a1c-c794-72e7f4649237"
      },
      "source": [
        "c(clinit)"
      ],
      "execution_count": null,
      "outputs": [
        {
          "output_type": "execute_result",
          "data": {
            "text/plain": [
              "124.67760482001177"
            ]
          },
          "metadata": {
            "tags": []
          },
          "execution_count": 51
        }
      ]
    },
    {
      "cell_type": "code",
      "metadata": {
        "colab": {
          "base_uri": "https://localhost:8080/",
          "height": 295
        },
        "id": "x336KO6XldQE",
        "outputId": "ee08109b-79d8-4238-af33-4c2160052a23"
      },
      "source": [
        "fig = plt.figure()\n",
        "y=np.linspace(0, 2.3, 2**n)\n",
        "ax = plt.axes(xlim=(0, 2.3),ylim=(-15, 15))\n",
        "line, = ax.plot(y, checkwave(clinit,d,n), 'r', lw=2)\n",
        "line2, = ax.plot(y,trans_butterfly(y, -5, 10, 2, 5))\n",
        "plt.xlabel('x')\n",
        "plt.ylabel('u(x,t=0)')\n",
        "plt.title('Exact Butterfly v.s. QFT Ansatz Approx.')\n",
        "plt.savefig('qftplot.png')"
      ],
      "execution_count": null,
      "outputs": [
        {
          "output_type": "display_data",
          "data": {
            "image/png": "[encoded data removed]",
            "text/plain": [
              "<Figure size 432x288 with 1 Axes>"
            ]
          },
          "metadata": {
            "tags": [],
            "needs_background": "light"
          }
        }
      ]
    }
  ]
}