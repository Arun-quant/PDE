{
  "nbformat": 4,
  "nbformat_minor": 0,
  "metadata": {
    "colab": {
      "name": "initBSE.ipynb",
      "provenance": [],
      "collapsed_sections": [],
      "authorship_tag": "ABX9TyNpFvi+w0eww4arYJCh41p2",
      "include_colab_link": true
    },
    "kernelspec": {
      "name": "python3",
      "display_name": "Python 3"
    },
    "language_info": {
      "name": "python"
    }
  },
  "cells": [
    {
      "cell_type": "markdown",
      "metadata": {
        "id": "view-in-github",
        "colab_type": "text"
      },
      "source": [
        "<a href=\"https://colab.research.google.com/github/arunavaangshuman/PDE/blob/main/initBSE.ipynb\" target=\"_parent\"><img src=\"https://colab.research.google.com/assets/colab-badge.svg\" alt=\"Open In Colab\"/></a>"
      ]
    },
    {
      "cell_type": "code",
      "metadata": {
        "id": "V07YEZsK5NJ6"
      },
      "source": [
        "!pip install --upgrade pip\n",
        "!pip install cirq\n",
        "!pip install -q qsimcirq --quiet\n",
        "!python -m pip install scikit-quant"
      ],
      "execution_count": null,
      "outputs": []
    },
    {
      "cell_type": "code",
      "metadata": {
        "id": "ngFWBa2wRflF"
      },
      "source": [
        "# auther- Arunava"
      ],
      "execution_count": null,
      "outputs": []
    },
    {
      "cell_type": "code",
      "metadata": {
        "id": "YYyv5xAN55fu"
      },
      "source": [
        "import numpy as np\n",
        "import cirq\n",
        "import skquant.opt as skqopt #optimization routines\n",
        "from matplotlib import pyplot as plt #plotting tool"
      ],
      "execution_count": null,
      "outputs": []
    },
    {
      "cell_type": "code",
      "metadata": {
        "id": "DN5Tlsmv56CX"
      },
      "source": [
        "import time"
      ],
      "execution_count": null,
      "outputs": []
    },
    {
      "cell_type": "code",
      "metadata": {
        "id": "yZ_AiS1-x5Xp"
      },
      "source": [
        "# creating SU(4) to compare with SO(4) and SU(4) includes imaginary terms also\n",
        "class SU4(cirq.Gate):\n",
        "\n",
        "    def __init__(self, thetas, inverse=False):\n",
        "        if (len(thetas)!=15):\n",
        "            raise ValueError(\"thetas must be a list of 15 variational parameters\")\n",
        "        self.thetas=thetas\n",
        "        self.inverse=inverse\n",
        "\n",
        "    def _num_qubits_(self):\n",
        "        #We are required to implement this method, \n",
        "        #it specifies the number of qubits our gate acts on\n",
        "        return 2\n",
        "\n",
        "    def _decompose_(self, q):\n",
        "        #AltSO(4) gate object takes two qubits as input\n",
        "        if (not self.inverse):\n",
        "          # circuit for A1\n",
        "            yield cirq.rz(self.thetas[0]).on(q[0])\n",
        "            yield cirq.ry(self.thetas[1]).on(q[0])\n",
        "            yield cirq.rz(self.thetas[2]).on(q[0])\n",
        "            yield cirq.rz(self.thetas[3]).on(q[1])\n",
        "            yield cirq.ry(self.thetas[4]).on(q[1])\n",
        "            yield cirq.rz(self.thetas[5]).on(q[1])\n",
        "            yield cirq.CNOT(q[1], q[0])\n",
        "            yield cirq.rz(self.thetas[6]).on(q[0])\n",
        "            yield cirq.ry(self.thetas[7]).on(q[1])\n",
        "            yield cirq.CNOT(q[0], q[1])\n",
        "            yield cirq.ry(self.thetas[8]).on(q[1]) \n",
        "            yield cirq.CNOT(q[1], q[0]) \n",
        "            yield cirq.rz(self.thetas[9]).on(q[0])\n",
        "            yield cirq.ry(self.thetas[10]).on(q[0])\n",
        "            yield cirq.rz(self.thetas[11]).on(q[0])\n",
        "            yield cirq.rz(self.thetas[12]).on(q[1])\n",
        "            yield cirq.ry(self.thetas[13]).on(q[1])\n",
        "            yield cirq.rz(self.thetas[14]).on(q[1])\n",
        "            \n",
        "        else:\n",
        "            yield cirq.rz(-self.thetas[14]).on(q[1])\n",
        "            yield cirq.ry(-self.thetas[13]).on(q[1])\n",
        "            yield cirq.rz(-self.thetas[12]).on(q[1])\n",
        "            yield cirq.rz(-self.thetas[11]).on(q[0])\n",
        "            yield cirq.ry(-self.thetas[10]).on(q[0])\n",
        "            yield cirq.rz(-self.thetas[9]).on(q[0])\n",
        "            yield cirq.CNOT(q[1], q[0])\n",
        "            yield cirq.rz(-self.thetas[8]).on(q[1])\n",
        "            yield cirq.ry(-self.thetas[7]).on(q[1])\n",
        "            yield cirq.CNOT(q[0], q[1])\n",
        "            yield cirq.ry(-self.thetas[6]).on(q[0]) \n",
        "            yield cirq.CNOT(q[1], q[0]) \n",
        "            yield cirq.rz(-self.thetas[5]).on(q[1])\n",
        "            yield cirq.ry(-self.thetas[4]).on(q[1])\n",
        "            yield cirq.rz(-self.thetas[3]).on(q[1])\n",
        "            yield cirq.rz(-self.thetas[2]).on(q[0])\n",
        "            yield cirq.ry(-self.thetas[1]).on(q[0])\n",
        "            yield cirq.rz(-self.thetas[0]).on(q[0])\n",
        "             \n",
        "    def _unitary_(self):\n",
        "        #Some other method we need in order to get inverses of U to work\n",
        "        #as we will need them in our circuits\n",
        "        return cirq.unitary(cirq.Circuit(self._decompose_(cirq.LineQubit.range(2))))\n",
        "    \n"
      ],
      "execution_count": null,
      "outputs": []
    },
    {
      "cell_type": "code",
      "metadata": {
        "id": "FaBkn7Jix8o4"
      },
      "source": [
        "class U(cirq.Gate):\n",
        "    def __init__(self, n, d, l, inverse=False):\n",
        "        #n := number of qubits\n",
        "        #d := depth (number of layers)\n",
        "        #l := list of variational parameters. Must be 6*(n-1)*d parameters\n",
        "        #we specify the variational parameter when we declare a U gate object\n",
        "        if (len(l)!=(15*(8-1)*d)):\n",
        "            raise ValueError(\"Incorrect number of parameters. l must be of length 6*(n-1)*d\")\n",
        "        self.n=n\n",
        "        self.d=d\n",
        "        self.l=l\n",
        "        self.inverse=inverse\n",
        "    \n",
        "    def _decompose_(self, q):\n",
        "        #U gate object takes in n qubits as input\n",
        "        if (not self.inverse):\n",
        "            for i in range(self.d):\n",
        "                for j in range(0, self.n-1, 2):\n",
        "                    yield SU4(self.l[15*(self.n-1)*i+15*j:15*(self.n-1)*i+15*j+15]).on(q[j], q[j+1])\n",
        "                for j in range(1, self.n-1, 2):\n",
        "                    yield SU4(self.l[15*(self.n-1)*i+15*j:15*(self.n-1)*i+15*j+15]).on(q[j], q[j+1])\n",
        "        else:\n",
        "            for i in range(self.d-1, -1, -1):\n",
        "                if (n%2==1):\n",
        "                    for j in range(self.n-2, -1, -2):\n",
        "                        yield SU4(self.l[15*(self.n-1)*i+15*j:15*(self.n-1)*i+15*j+15], True).on(q[j], q[j+1])\n",
        "                    for j in range(self.n-3, -1, -2):\n",
        "                        yield SU4(self.l[15*(self.n-1)*i+15*j:15*(self.n-1)*i+15*j+15], True).on(q[j], q[j+1])\n",
        "                else:\n",
        "                    for j in range(self.n-3, -1, -2):\n",
        "                        yield SU4(self.l[15*(self.n-1)*i+15*j:15*(self.n-1)*i+15*j+15], True).on(q[j], q[j+1])\n",
        "                    for j in range(self.n-2, -1, -2):\n",
        "                        yield SU4(self.l[15*(self.n-1)*i+15*j:15*(self.n-1)*i+15*j+15], True).on(q[j], q[j+1])\n",
        "                    \n",
        "        \n",
        "    def _num_qubits_(self):\n",
        "        #We are required to implement this method, \n",
        "        #it specifies the number of qubits our gate acts on\n",
        "        return self.n   \n",
        "    \n",
        "    def _unitary_(self):\n",
        "        #Some other method we need in order to get inverses of U to work\n",
        "        #as we will need them in our circuits\n",
        "        return cirq.unitary(cirq.Circuit(self._decompose_(cirq.LineQubit.range(self.n))))"
      ],
      "execution_count": null,
      "outputs": []
    },
    {
      "cell_type": "code",
      "metadata": {
        "id": "PliJNKFYyP-j"
      },
      "source": [
        "def checkwave(l,d,n):\n",
        "    #create circuit object for adding gates to\n",
        "    circuit = cirq.Circuit()\n",
        "    #specify number of qubits we want in our circuit\n",
        "    q = [cirq.GridQubit(0, i) for i in range(n)]\n",
        "    \n",
        "    #Add our custom gate class U to our circuit and make sure it acts\n",
        "    #on all qubits *q\n",
        "    \n",
        "    circuit.append(U(n=8,d=2,l=l[1:d*15*(8-1)+1]).on(*q[2:]))\n",
        "    \n",
        "    param=d*15*(8-1)+1\n",
        "    #for i in range(4,n):\n",
        "    #    circuit.append(cirq.rz(l[param]).on(q[i]))\n",
        "    #    param+=1\n",
        "    count=0\n",
        "   # for i in range(4,10):\n",
        "   #     circuit.append(SU2(l[param:param+i-(1+count)])).on(q[i])\n",
        "   #     param+=param+3  \n",
        "   #     count=count+1  \n",
        "\n",
        "    for i in range(2,10):\n",
        "      for j in range(1):\n",
        "        circuit.append(cirq.rz(l[param+j]).on(q[i]))\n",
        "        circuit.append(cirq.ry(l[param+j+1]).on(q[i]))\n",
        "        circuit.append(cirq.rz(l[param+j+2]).on(q[i]))\n",
        "      param+=3 \n",
        "    circuit.append(cirq.qft(*q))\n",
        "    \n",
        "\n",
        "    #Create simulator object\n",
        "    simulator = cirq.Simulator()\n",
        "    \n",
        "    #Direct wavefunction access\n",
        "    result = simulator.simulate(circuit).state_vector()\n",
        "    \n",
        "    #create final state \n",
        "    func = l[0]*np.real(result)\n",
        "    return func"
      ],
      "execution_count": null,
      "outputs": []
    },
    {
      "cell_type": "code",
      "metadata": {
        "id": "rPsIy-hu6MJ2"
      },
      "source": [
        "def gaussian(x, mu, sig):\n",
        "    return np.exp(-np.power(x - mu, 2.) / (2 * np.power(sig, 2.)))\n",
        "\n",
        "def element_butterfly(S, loss, profit, strike, sstrike):\n",
        "    if (strike>=sstrike or profit<=loss):\n",
        "        raise ValueError(\"Impossible args\")\n",
        "        \n",
        "    def outer(S):\n",
        "        return loss\n",
        "\n",
        "    def pos(S):\n",
        "        return loss+(profit-loss)*(S-strike)/(sstrike-strike)\n",
        "    \n",
        "    def neg(S):\n",
        "        return profit - (profit-loss)*(S-sstrike)/(sstrike-strike)\n",
        "    \n",
        "    if (S <= strike or S>(2*sstrike-strike)):\n",
        "        return outer(S)\n",
        "    \n",
        "    if ((S>strike) and (S<=sstrike)):\n",
        "        return pos(S)\n",
        "    \n",
        "    if ((S>sstrike) and (S<=(2*sstrike-strike))):\n",
        "        return neg(S)\n",
        "\n",
        "\n",
        "'''\n",
        "Function to generate f(S) where f is the butterfly call option, and S is\n",
        "a numpy array corresponding to the value of the stock at each point.\n",
        "loss= minimum option price (usually  negative)\n",
        "profit= peak option price\n",
        "strike= strike price (stock price when option's value starts to grow')\n",
        "sstrike= sell strike price (stock price when option's value reaches peak (profit)')\n",
        "returns: numpy array\n",
        "'''\n",
        "def butterfly(S, loss, profit, strike, sstrike):\n",
        "    return np.vectorize(element_butterfly, otypes=\"f\")(S, loss, profit, strike, sstrike)\n",
        "\n",
        "'''\n",
        "Function to generate f(x), where f is the butterfly call option, and x is\n",
        "the natural log of stock price S\n",
        "returns: numpy array\n",
        "'''\n",
        "def trans_butterfly(x, loss, profit, strike, sstrike):\n",
        "    return butterfly(np.exp(x), loss, profit, strike, sstrike)\n"
      ],
      "execution_count": null,
      "outputs": []
    },
    {
      "cell_type": "code",
      "metadata": {
        "id": "1wItLu1X6DV0"
      },
      "source": [
        "def initializer(n=8, d=1, func='butterfly'):\n",
        "    if (func=='sin'):\n",
        "        x=np.linspace(0,1,2**n)\n",
        "        f=np.sin(2*np.pi*x)\n",
        "        xlim=(0, 1)\n",
        "        ylim=(-1, 1)\n",
        "    elif (func=='gauss'):\n",
        "        x=np.linspace(0,1,2**n)\n",
        "        f=gaussian(x, 0.5, 0.2)\n",
        "        xlim=(0, 1)\n",
        "        ylim=(0, 1)\n",
        "    elif (func=='butterfly'):\n",
        "        x=np.linspace(0, 2.3, 2**n)\n",
        "        f=trans_butterfly(x, -5, 10, 2, 5)\n",
        "        xlim=(0, 2.3)\n",
        "        ylim=(-5, 10)\n",
        "    \n",
        "    "
      ],
      "execution_count": null,
      "outputs": []
    },
    {
      "cell_type": "code",
      "metadata": {
        "id": "jip6b3Pc8ZTd"
      },
      "source": [
        "d=2\n",
        "n=10"
      ],
      "execution_count": null,
      "outputs": []
    },
    {
      "cell_type": "code",
      "metadata": {
        "colab": {
          "base_uri": "https://localhost:8080/"
        },
        "id": "RIjDVjm28h3N",
        "outputId": "586183bb-fb3f-4562-91e1-f45e9a23d104"
      },
      "source": [
        "x0=np.concatenate(([10*np.random.random()],2*np.pi*np.random.rand(d*15*(8-1)+24)))\n",
        "checkwave(x0,d,n)"
      ],
      "execution_count": null,
      "outputs": [
        {
          "output_type": "execute_result",
          "data": {
            "text/plain": [
              "array([ 0.1312868 ,  0.03433986,  0.03969111, ..., -0.2188418 ,\n",
              "       -0.1850454 ,  0.04568925], dtype=float32)"
            ]
          },
          "metadata": {
            "tags": []
          },
          "execution_count": 68
        }
      ]
    },
    {
      "cell_type": "code",
      "metadata": {
        "id": "TPxbJWX79yTV"
      },
      "source": [
        "def c(l):\n",
        "    x=np.linspace(0, 2.3, 2**n)\n",
        "    # f is changeble if want to take gaussian then we can replace trans_butter... by gaussian or sin if sin is needed\n",
        "    # simply take functions \n",
        "    f=trans_butterfly(x, -5, 10, 2, 5)\n",
        "    return np.linalg.norm(checkwave(l,d,n)-f)**2"
      ],
      "execution_count": null,
      "outputs": []
    },
    {
      "cell_type": "code",
      "metadata": {
        "id": "-mWECeeEBpu1"
      },
      "source": [
        "def c1(l):\n",
        "    x=np.linspace(0,1,2**n)\n",
        "    # f is changeble if want to take gaussian then we can replace trans_butter... by gaussian or sin if sin is needed\n",
        "    # simply take functions \n",
        "    f=np.sin(2*np.pi*x)\n",
        "    return np.linalg.norm(checkwave(l,d,n)-f)**2"
      ],
      "execution_count": null,
      "outputs": []
    },
    {
      "cell_type": "code",
      "metadata": {
        "id": "78MsWRxWBy0L"
      },
      "source": [
        "def c2(l):\n",
        "    x=np.linspace(0,1,2**n)\n",
        "        \n",
        "    # f is changeble if want to take gaussian then we can replace trans_butter... by gaussian or sin if sin is needed\n",
        "    # simply take functions \n",
        "    f=gaussian(x, 0.5, 0.2)\n",
        "    return np.linalg.norm(checkwave(l,d,n)-f)**2"
      ],
      "execution_count": null,
      "outputs": []
    },
    {
      "cell_type": "code",
      "metadata": {
        "id": "biVc3-Ja-HF-"
      },
      "source": [
        "bounds = [[0,240]] #first bound is lambda0, best choice of bounds usually\n",
        "#depends on number of qubits we are using\n",
        "\n",
        "#the rest of the bounds are the angle theta in Ry(theta)\n",
        "for i in range(d*15*(8-1)+24):\n",
        "    bounds.append([0,2*np.pi])"
      ],
      "execution_count": null,
      "outputs": []
    },
    {
      "cell_type": "code",
      "metadata": {
        "id": "sZ22Yq8v_Gvl"
      },
      "source": [
        "    budget = 100000"
      ],
      "execution_count": null,
      "outputs": []
    },
    {
      "cell_type": "code",
      "metadata": {
        "id": "2afijTRN_BEu"
      },
      "source": [
        "x0=np.concatenate(([240*np.random.random()],2*np.pi*np.random.rand(d*15*(8-1)+24)))\n",
        "\n",
        "#Optimize using Imfil\n",
        "result, history = skqopt.minimize(c, x0, bounds, budget, method='imfil')"
      ],
      "execution_count": null,
      "outputs": []
    },
    {
      "cell_type": "code",
      "metadata": {
        "id": "hn9X3Zd_ihTt"
      },
      "source": [
        "x0=np.concatenate(([240*np.random.random()],2*np.pi*np.random.rand(d*15*(8-1)+24)))\n",
        "result1, history1 = skqopt.minimize(c1, x0, bounds, budget, method='imfil')"
      ],
      "execution_count": null,
      "outputs": []
    },
    {
      "cell_type": "code",
      "metadata": {
        "id": "RXkpapizE0Vw"
      },
      "source": [
        "bounds2 = [[0,30]] #first bound is lambda0, best choice of bounds usually\n",
        "#depends on number of qubits we are using\n",
        "\n",
        "#the rest of the bounds are the angle theta in Ry(theta)\n",
        "for i in range(d*15*(8-1)+24):\n",
        "    bounds2.append([0,2*np.pi])"
      ],
      "execution_count": null,
      "outputs": []
    },
    {
      "cell_type": "code",
      "metadata": {
        "id": "l2T_jMM1ijCq"
      },
      "source": [
        "x0=np.concatenate(([30*np.random.random()],2*np.pi*np.random.rand(d*15*(8-1)+24)))\n",
        "result2, history2 = skqopt.minimize(c2, x0, bounds2, budget, method='imfil')"
      ],
      "execution_count": null,
      "outputs": []
    },
    {
      "cell_type": "code",
      "metadata": {
        "id": "kiVl2Yol_rof"
      },
      "source": [
        "linit=result.optpar"
      ],
      "execution_count": null,
      "outputs": []
    },
    {
      "cell_type": "code",
      "metadata": {
        "id": "erwCoiO_i7Wr"
      },
      "source": [
        "linit1=result1.optpar"
      ],
      "execution_count": null,
      "outputs": []
    },
    {
      "cell_type": "code",
      "metadata": {
        "id": "QP8LPmYti8zi"
      },
      "source": [
        "linit2=result2.optpar"
      ],
      "execution_count": null,
      "outputs": []
    },
    {
      "cell_type": "code",
      "metadata": {
        "colab": {
          "base_uri": "https://localhost:8080/",
          "height": 295
        },
        "id": "QWuKi_fo_vrU",
        "outputId": "62aa2c75-a547-4dc6-9e87-a67ebf39e6e9"
      },
      "source": [
        "#init_bound=[[0,200]]\n",
        "fig = plt.figure()\n",
        "y=np.linspace(0, 2.3, 2**n)\n",
        "ax = plt.axes(xlim=(0, 2.3),ylim=(-15, 15))\n",
        "line, = ax.plot(y, checkwave(linit,d,n), 'r', lw=2)\n",
        "line2, = ax.plot(y,trans_butterfly(y, -5, 10, 2, 5))\n",
        "plt.xlabel('x')\n",
        "plt.ylabel('u(x,t=0)')\n",
        "plt.title('Exact Butterfly v.s. QFT Ansatz Approx.')\n",
        "plt.savefig('qftplot.png')"
      ],
      "execution_count": null,
      "outputs": [
        {
          "output_type": "display_data",
          "data": {
            "image/png": "[encoded data removed]",
            "text/plain": [
              "<Figure size 432x288 with 1 Axes>"
            ]
          },
          "metadata": {
            "tags": [],
            "needs_background": "light"
          }
        }
      ]
    },
    {
      "cell_type": "code",
      "metadata": {
        "colab": {
          "base_uri": "https://localhost:8080/",
          "height": 295
        },
        "id": "PlVNoHO6jYJN",
        "outputId": "8239e3d4-cc66-4496-f243-9e2640f107f2"
      },
      "source": [
        "#init_bound=[[0,240]]\n",
        "fig = plt.figure()\n",
        "y=np.linspace(0, 2.3, 2**n)\n",
        "ax = plt.axes(xlim=(0, 2.3),ylim=(-15, 15))\n",
        "line, = ax.plot(y, checkwave(linit,d,n), 'r', lw=2)\n",
        "line2, = ax.plot(y,trans_butterfly(y, -5, 10, 2, 5))\n",
        "plt.xlabel('x')\n",
        "plt.ylabel('u(x,t=0)')\n",
        "plt.title('Exact Butterfly v.s. QFT Ansatz Approx.')\n",
        "plt.savefig('qftplot.png')"
      ],
      "execution_count": null,
      "outputs": [
        {
          "output_type": "display_data",
          "data": {
            "image/png": "[encoded data removed]",
            "text/plain": [
              "<Figure size 432x288 with 1 Axes>"
            ]
          },
          "metadata": {
            "tags": [],
            "needs_background": "light"
          }
        }
      ]
    },
    {
      "cell_type": "code",
      "metadata": {
        "colab": {
          "base_uri": "https://localhost:8080/"
        },
        "id": "nTmN3PyIC3Xg",
        "outputId": "fff214e3-79ba-43f0-eb3a-4d5e0acf8ab5"
      },
      "source": [
        "linit[0]"
      ],
      "execution_count": null,
      "outputs": [
        {
          "output_type": "execute_result",
          "data": {
            "text/plain": [
              "219.36349220822373"
            ]
          },
          "metadata": {
            "tags": []
          },
          "execution_count": 98
        }
      ]
    },
    {
      "cell_type": "code",
      "metadata": {
        "colab": {
          "base_uri": "https://localhost:8080/",
          "height": 295
        },
        "id": "OmsgrZjEDAQC",
        "outputId": "31c6b036-44fe-466f-83b2-dc6dc295b963"
      },
      "source": [
        "fig = plt.figure()\n",
        "y=np.linspace(0, 1, 2**n)\n",
        "ax = plt.axes(xlim=(0, 1),ylim=(-1, 1))\n",
        "line, = ax.plot(y, checkwave(linit1,d,n), 'r', lw=2)\n",
        "line2, = ax.plot(y,np.sin(2*np.pi*y))\n",
        "plt.xlabel('x')\n",
        "plt.ylabel('u(x,t=0)')\n",
        "plt.title('Exact sinx v.s. QFT Ansatz Approx.')\n",
        "plt.savefig('qftplot.png')"
      ],
      "execution_count": null,
      "outputs": [
        {
          "output_type": "display_data",
          "data": {
            "image/png": "[encoded data removed]",
            "text/plain": [
              "<Figure size 432x288 with 1 Axes>"
            ]
          },
          "metadata": {
            "tags": [],
            "needs_background": "light"
          }
        }
      ]
    },
    {
      "cell_type": "code",
      "metadata": {
        "colab": {
          "base_uri": "https://localhost:8080/",
          "height": 295
        },
        "id": "ZdFlqGfYU22W",
        "outputId": "019f5681-668e-4eea-9b21-ae44458968df"
      },
      "source": [
        "fig = plt.figure()\n",
        "y=np.linspace(0, 1, 2**n)\n",
        "ax = plt.axes(xlim=(0, 1), ylim=(0, 1))\n",
        "line, = ax.plot(y, checkwave(linit2,d,n), 'r', lw=2)\n",
        "line2, = ax.plot(y,gaussian(y, 0.5, 0.2))\n",
        "plt.xlabel('x')\n",
        "plt.ylabel('u(x,t=0)')\n",
        "plt.title('Exact sinx v.s. QFT Ansatz Approx.')\n",
        "plt.savefig('qftplot.png')"
      ],
      "execution_count": null,
      "outputs": [
        {
          "output_type": "display_data",
          "data": {
            "image/png": "[encoded data removed]",
            "text/plain": [
              "<Figure size 432x288 with 1 Axes>"
            ]
          },
          "metadata": {
            "tags": [],
            "needs_background": "light"
          }
        }
      ]
    }
  ]
}