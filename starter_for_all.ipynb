{
  "nbformat": 4,
  "nbformat_minor": 0,
  "metadata": {
    "colab": {
      "name": "starter for all.ipynb",
      "provenance": [],
      "authorship_tag": "ABX9TyOUhKGt0Bj/tdlYkzXoznZo",
      "include_colab_link": true
    },
    "kernelspec": {
      "name": "python3",
      "display_name": "Python 3"
    }
  },
  "cells": [
    {
      "cell_type": "markdown",
      "metadata": {
        "id": "view-in-github",
        "colab_type": "text"
      },
      "source": [
        "<a href=\"https://colab.research.google.com/github/arunavaangshuman/PDE/blob/main/starter_for_all.ipynb\" target=\"_parent\"><img src=\"https://colab.research.google.com/assets/colab-badge.svg\" alt=\"Open In Colab\"/></a>"
      ]
    },
    {
      "cell_type": "code",
      "metadata": {
        "id": "XqxOfNn6qgh0"
      },
      "source": [
        "try:\r\n",
        "    import cirq\r\n",
        "except ImportError:\r\n",
        "    print(\"installing cirq...\")\r\n",
        "    !pip install --quiet cirq\r\n",
        "    print(\"installed cirq.\")"
      ],
      "execution_count": 4,
      "outputs": []
    },
    {
      "cell_type": "code",
      "metadata": {
        "id": "dCBKUzjkrT3g"
      },
      "source": [
        "import numpy as np"
      ],
      "execution_count": 9,
      "outputs": []
    },
    {
      "cell_type": "code",
      "metadata": {
        "colab": {
          "base_uri": "https://localhost:8080/"
        },
        "id": "kDyMmxu7qhlT",
        "outputId": "f357c9ca-c693-4aec-dbe9-85d3e854ced6"
      },
      "source": [
        "print(cirq.unitary(cirq.rz(np.pi/2)))"
      ],
      "execution_count": 13,
      "outputs": [
        {
          "output_type": "stream",
          "text": [
            "[[0.70710678-0.70710678j 0.        +0.j        ]\n",
            " [0.        +0.j         0.70710678+0.70710678j]]\n"
          ],
          "name": "stdout"
        }
      ]
    },
    {
      "cell_type": "code",
      "metadata": {
        "id": "x7Qt61Q7quLc"
      },
      "source": [
        "class MySwap(cirq.TwoQubitGate):\r\n",
        "    def __init__(self):\r\n",
        "        super(MySwap, self)\r\n",
        "\r\n",
        "    def _decompose_(self, qubits):\r\n",
        "        a, b = qubits\r\n",
        "        yield cirq.CNOT(a, b)\r\n",
        "        yield cirq.CNOT(b, a)\r\n",
        "        yield cirq.CNOT(a, b)\r\n",
        "\r\n",
        "    def _circuit_diagram_info_(self, args):\r\n",
        "        return [\"CustomSWAP\"] * self.num_qubits()\r\n",
        "\r\n",
        "my_swap = MySwap()"
      ],
      "execution_count": 12,
      "outputs": []
    },
    {
      "cell_type": "code",
      "metadata": {
        "id": "SkER8M2Orkqt"
      },
      "source": [
        ""
      ],
      "execution_count": null,
      "outputs": []
    }
  ]
}