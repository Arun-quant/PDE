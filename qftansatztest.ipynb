{
  "nbformat": 4,
  "nbformat_minor": 0,
  "metadata": {
    "colab": {
      "name": "qftansatztest.ipynb",
      "provenance": [],
      "include_colab_link": true
    },
    "kernelspec": {
      "display_name": "Python 3",
      "language": "python",
      "name": "python3"
    },
    "language_info": {
      "codemirror_mode": {
        "name": "ipython",
        "version": 3
      },
      "file_extension": ".py",
      "mimetype": "text/x-python",
      "name": "python",
      "nbconvert_exporter": "python",
      "pygments_lexer": "ipython3",
      "version": "3.8.5"
    }
  },
  "cells": [
    {
      "cell_type": "markdown",
      "metadata": {
        "id": "view-in-github",
        "colab_type": "text"
      },
      "source": [
        "<a href=\"https://colab.research.google.com/github/arunavaangshuman/PDE/blob/main/qftansatztest.ipynb\" target=\"_parent\"><img src=\"https://colab.research.google.com/assets/colab-badge.svg\" alt=\"Open In Colab\"/></a>"
      ]
    },
    {
      "cell_type": "code",
      "metadata": {
        "id": "8DfwVElfEQQa"
      },
      "source": [
        "!pip install --upgrade pip\n",
        "!pip install cirq\n",
        "!pip install -q qsimcirq --quiet\n",
        "!python -m pip install scikit-quant"
      ],
      "execution_count": null,
      "outputs": []
    },
    {
      "cell_type": "code",
      "metadata": {
        "id": "J2Hb7yPfyn-P"
      },
      "source": [
        "import numpy as np\n",
        "import cirq\n",
        "import skquant.opt as skqopt #optimization routines\n",
        "from matplotlib import pyplot as plt #plotting tool"
      ],
      "execution_count": 3,
      "outputs": []
    },
    {
      "cell_type": "code",
      "metadata": {
        "id": "s96gd8CkET-l"
      },
      "source": [
        "# alternative SO(4) different from what Peter suggests taken from this paper : https://arxiv.org/pdf/quant-ph/0308006v3.pdf\n",
        "class AltSO4(cirq.Gate):\n",
        "    #thetas := list of 6 variational parameters for this SO4 block\n",
        "    def __init__(self, thetas, inverse=False):\n",
        "        if (len(thetas)!=6):\n",
        "            raise ValueError(\"thetas must be a list of 6 variational parameters\")\n",
        "        self.thetas=thetas\n",
        "        self.inverse=inverse\n",
        "    \n",
        "    def _decompose_(self, q):\n",
        "        #AltSO(4) gate object takes two qubits as input\n",
        "        if (not self.inverse):\n",
        "            yield cirq.rz(np.pi/2).on(q[0])\n",
        "            yield cirq.rz(np.pi/2).on(q[1])\n",
        "            yield cirq.ry(np.pi/2).on(q[1])\n",
        "            yield cirq.CNOT(q[1], q[0])\n",
        "            yield cirq.rz(self.thetas[0]).on(q[0])\n",
        "            yield cirq.ry(self.thetas[1]).on(q[0])\n",
        "            yield cirq.rz(self.thetas[2]).on(q[0])\n",
        "            yield cirq.rz(self.thetas[3]).on(q[1])\n",
        "            yield cirq.ry(self.thetas[4]).on(q[1])\n",
        "            yield cirq.rz(self.thetas[5]).on(q[1])\n",
        "            yield cirq.CNOT(q[1], q[0])\n",
        "            yield cirq.rz(-np.pi/2).on(q[0])\n",
        "            yield cirq.ry(-np.pi/2).on(q[1])\n",
        "            yield cirq.rz(-np.pi/2).on(q[1])\n",
        "            \n",
        "            \n",
        "        else:\n",
        "            yield cirq.rz(-np.pi/2).on(q[0])\n",
        "            yield cirq.ry(-np.pi/2).on(q[1])\n",
        "            yield cirq.rz(-np.pi/2).on(q[1])\n",
        "            yield cirq.CNOT(q[1], q[0])\n",
        "            yield cirq.rz(-self.thetas[5]).on(q[1])\n",
        "            yield cirq.ry(-self.thetas[4]).on(q[1])\n",
        "            yield cirq.rz(-self.thetas[3]).on(q[1])\n",
        "            yield cirq.rz(-self.thetas[2]).on(q[0])\n",
        "            yield cirq.ry(-self.thetas[1]).on(q[0])\n",
        "            yield cirq.rz(-self.thetas[0]).on(q[0])\n",
        "            yield cirq.CNOT(q[1], q[0])\n",
        "            yield cirq.rz(np.pi/2).on(q[0])\n",
        "            yield cirq.ry(np.pi/2).on(q[1])\n",
        "            yield cirq.rz(np.pi/2).on(q[1])\n",
        "           \n",
        "            \n",
        "        \n",
        "    def _num_qubits_(self):\n",
        "        #We are required to implement this method, \n",
        "        #it specifies the number of qubits our gate acts on\n",
        "        return 2\n",
        "    \n",
        "    def _unitary_(self):\n",
        "        #Some other method we need in order to get inverses of U to work\n",
        "        #as we will need them in our circuits\n",
        "        return cirq.unitary(cirq.Circuit(self._decompose_(cirq.LineQubit.range(2))))\n",
        "    "
      ],
      "execution_count": 135,
      "outputs": []
    },
    {
      "cell_type": "code",
      "metadata": {
        "id": "isY3cBRoqAT-"
      },
      "source": [
        "#creating SU(2) gate instead of Rz given in task list to see what advantage/ disadvantage it provides taken from the same paper in the above cell\n",
        "class SU2(cirq.Gate):\n",
        "\n",
        "    def __init__(self, thetas, inverse=False):\n",
        "        if (len(thetas)!=3):\n",
        "            raise ValueError(\"thetas must be a list of 6 variational parameters\")\n",
        "        self.thetas=thetas\n",
        "        self.inverse=inverse\n",
        "\n",
        "    def _num_qubits_(self):\n",
        "        return 1\n",
        "\n",
        "    def  decompose():\n",
        "        if (not self.inverse):\n",
        "            yield cirq.rz(self.thetas[0]).on(*q)\n",
        "            yield cirq.ry(self.thetas[1]).on(*q)\n",
        "            yield cirq.rz(self.thetas[2]).on(*q)\n",
        "            \n",
        "            \n",
        "        else:\n",
        "\n",
        "            yield cirq.rz(-self.thetas[2]).on(*q)\n",
        "            yield cirq.ry(-self.thetas[1]).on(*q)\n",
        "            yield cirq.rz(-self.thetas[0]).on(*q)\n",
        "        \n",
        "    def _unitary_(self):\n",
        "        #Some other method we need in order to get inverses of U to work\n",
        "        #as we will need them in our circuits\n",
        "        return cirq.unitary(cirq.Circuit(self._decompose_(cirq.LineQubit.range(1))))                 "
      ],
      "execution_count": 45,
      "outputs": []
    },
    {
      "cell_type": "code",
      "metadata": {
        "id": "QXJ8BJ92vx3P"
      },
      "source": [
        "# creating SU(4) to compare with SO(4) and SU(4) includes imaginary terms also similarly taken from the same paper\n",
        "class SU4(cirq.Gate):\n",
        "\n",
        "    def __init__(self, thetas, inverse=False):\n",
        "        if (len(thetas)!=15):\n",
        "            raise ValueError(\"thetas must be a list of 6 variational parameters\")\n",
        "        self.thetas=thetas\n",
        "        self.inverse=inverse\n",
        "\n",
        "    def _num_qubits_(self):\n",
        "        #We are required to implement this method, \n",
        "        #it specifies the number of qubits our gate acts on\n",
        "        return 2\n",
        "\n",
        "    def _decompose_(self, q):\n",
        "        #AltSO(4) gate object takes two qubits as input\n",
        "        if (not self.inverse):\n",
        "          # circuit for A1\n",
        "            yield cirq.rz(self.thetas[0]).on(q[0])\n",
        "            yield cirq.ry(self.thetas[1]).on(q[0])\n",
        "            yield cirq.rz(self.thetas[2]).on(q[0])\n",
        "            yield cirq.rz(self.thetas[3]).on(q[1])\n",
        "            yield cirq.ry(self.thetas[4]).on(q[1])\n",
        "            yield cirq.rz(self.thetas[5]).on(q[1])\n",
        "            yield cirq.CNOT(q[1], q[0])\n",
        "            yield cirq.rz(self.thetas[6]).on(q[0])\n",
        "            yield cirq.ry(self.thetas[7]).on(q[1])\n",
        "            yield cirq.CNOT(q[0], q[1])\n",
        "            yield cirq.ry(self.thetas[8]).on(q[1]) \n",
        "            yield cirq.CNOT(q[1], q[0]) \n",
        "            yield cirq.rz(self.thetas[9]).on(q[0])\n",
        "            yield cirq.ry(self.thetas[10]).on(q[0])\n",
        "            yield cirq.rz(self.thetas[11]).on(q[0])\n",
        "            yield cirq.rz(self.thetas[12]).on(q[1])\n",
        "            yield cirq.ry(self.thetas[13]).on(q[1])\n",
        "            yield cirq.rz(self.thetas[14]).on(q[1])\n",
        "            \n",
        "        else:\n",
        "            yield cirq.rz(-self.thetas[14]).on(q[1])\n",
        "            yield cirq.ry(-self.thetas[13]).on(q[1])\n",
        "            yield cirq.rz(-self.thetas[12]).on(q[1])\n",
        "            yield cirq.rz(-self.thetas[11]).on(q[0])\n",
        "            yield cirq.ry(-self.thetas[10]).on(q[0])\n",
        "            yield cirq.rz(-self.thetas[9]).on(q[0])\n",
        "            yield cirq.CNOT(q[1], q[0])\n",
        "            yield cirq.rz(-self.thetas[8]).on(q[1])\n",
        "            yield cirq.ry(-self.thetas[7]).on(q[1])\n",
        "            yield cirq.CNOT(q[0], q[1])\n",
        "            yield cirq.ry(-self.thetas[6]).on(q[0]) \n",
        "            yield cirq.CNOT(q[1], q[0]) \n",
        "            yield cirq.rz(-self.thetas[5]).on(q[1])\n",
        "            yield cirq.ry(-self.thetas[4]).on(q[1])\n",
        "            yield cirq.rz(-self.thetas[3]).on(q[1])\n",
        "            yield cirq.rz(-self.thetas[2]).on(q[0])\n",
        "            yield cirq.ry(-self.thetas[1]).on(q[0])\n",
        "            yield cirq.rz(-self.thetas[0]).on(q[0])\n",
        "             \n",
        "    def _unitary_(self):\n",
        "        #Some other method we need in order to get inverses of U to work\n",
        "        #as we will need them in our circuits\n",
        "        return cirq.unitary(cirq.Circuit(self._decompose_(cirq.LineQubit.range(2))))\n",
        "    \n"
      ],
      "execution_count": 6,
      "outputs": []
    },
    {
      "cell_type": "code",
      "metadata": {
        "id": "vp-bzdniyYUl"
      },
      "source": [
        "class U(cirq.Gate):\n",
        "    def __init__(self, n, d, l, inverse=False):\n",
        "        #n := number of qubits\n",
        "        #d := depth (number of layers)\n",
        "        #l := list of variational parameters. Must be 6*(n-1)*d parameters\n",
        "        #we specify the variational parameter when we declare a U gate object\n",
        "        if (len(l)!=6*(n-1)*d):\n",
        "            raise ValueError(\"Incorrect number of parameters. l must be of length 6*(n-1)*d\")\n",
        "        self.n=n\n",
        "        self.d=d\n",
        "        self.l=l\n",
        "        self.inverse=inverse\n",
        "    \n",
        "    def _decompose_(self, q):\n",
        "        #U gate object takes in n qubits as input\n",
        "        if (not self.inverse):\n",
        "            for i in range(self.d):\n",
        "                for j in range(0, self.n-1, 2):\n",
        "                    yield AltSO4(self.l[6*(self.n-1)*i+6*j:6*(self.n-1)*i+6*j+6]).on(q[j], q[j+1])\n",
        "                for j in range(1, self.n-1, 2):\n",
        "                    yield AltSO4(self.l[6*(self.n-1)*i+6*j:6*(self.n-1)*i+6*j+6]).on(q[j], q[j+1])\n",
        "        else:\n",
        "            for i in range(self.d-1, -1, -1):\n",
        "                if (n%2==1):\n",
        "                    for j in range(self.n-2, -1, -2):\n",
        "                        yield AltSO4(self.l[6*(self.n-1)*i+6*j:6*(self.n-1)*i+6*j+6], True).on(q[j], q[j+1])\n",
        "                    for j in range(self.n-3, -1, -2):\n",
        "                        yield AltSO4(self.l[6*(self.n-1)*i+6*j:6*(self.n-1)*i+6*j+6], True).on(q[j], q[j+1])\n",
        "                else:\n",
        "                    for j in range(self.n-3, -1, -2):\n",
        "                        yield AltSO4(self.l[6*(self.n-1)*i+6*j:6*(self.n-1)*i+6*j+6], True).on(q[j], q[j+1])\n",
        "                    for j in range(self.n-2, -1, -2):\n",
        "                        yield AltSO4(self.l[6*(self.n-1)*i+6*j:6*(self.n-1)*i+6*j+6], True).on(q[j], q[j+1])\n",
        "                    \n",
        "        \n",
        "    def _num_qubits_(self):\n",
        "        #We are required to implement this method, \n",
        "        #it specifies the number of qubits our gate acts on\n",
        "        return self.n   \n",
        "    \n",
        "    def _unitary_(self):\n",
        "        #Some other method we need in order to get inverses of U to work\n",
        "        #as we will need them in our circuits\n",
        "        return cirq.unitary(cirq.Circuit(self._decompose_(cirq.LineQubit.range(self.n))))"
      ],
      "execution_count": 136,
      "outputs": []
    },
    {
      "cell_type": "code",
      "metadata": {
        "id": "qSdpQf_HEzPr"
      },
      "source": [
        "d=1\n",
        "n=8"
      ],
      "execution_count": 126,
      "outputs": []
    },
    {
      "cell_type": "code",
      "metadata": {
        "id": "kUKYYRjwQ3o0"
      },
      "source": [
        "def checkwave(l,d,n):\n",
        "    #create circuit object for adding gates to\n",
        "    circuit = cirq.Circuit()\n",
        "    #specify number of qubits we want in our circuit\n",
        "    q = [cirq.GridQubit(0, i) for i in range(8)]\n",
        "    \n",
        "    #Add our custom gate class U to our circuit and make sure it acts\n",
        "    #on all qubits *q\n",
        "    \n",
        "    circuit.append(U(n=6,d=1,l=l[1:d*6*(6-1)+1]).on(*q[2:]))\n",
        "    \n",
        "    # instead of SU2 writing the decomposed form of SU2\n",
        "\n",
        "    param=d*6*(6-1)+1\n",
        "    for i in range(2,n):\n",
        "      for j in range(1):\n",
        "        circuit.append(cirq.rz(l[param+j]).on(q[i]))\n",
        "        circuit.append(cirq.ry(l[param+j+1]).on(q[i]))\n",
        "        circuit.append(cirq.rz(l[param+j+2]).on(q[i]))\n",
        "      param+=3\n",
        "        \n",
        "    #param=d*6*(6-1)+1\n",
        "    #for i in range(2,n):\n",
        "    #    circuit.append(cirq.rz(l[param]).on(q[i]))\n",
        "    #    param+=1    \n",
        "     \n",
        "    #circuit.append(cirq.qft(*q)**-1) \n",
        "    circuit.append(cirq.qft(*q))\n",
        "    #print(circuit)\n",
        "    #Create simulator object\n",
        "    simulator = cirq.Simulator()\n",
        "    \n",
        "    #Direct wavefunction access\n",
        "    result = simulator.simulate(circuit).state_vector()\n",
        "    \n",
        "    #create final state \n",
        "    func = l[0]*np.real(result)\n",
        "    return func"
      ],
      "execution_count": 167,
      "outputs": []
    },
    {
      "cell_type": "code",
      "metadata": {
        "id": "gIOakuqkyYUn"
      },
      "source": [
        "x0=np.concatenate(([10*np.random.random()],2*np.pi*np.random.rand(d*6*(4-1)+12)))"
      ],
      "execution_count": 60,
      "outputs": []
    },
    {
      "cell_type": "code",
      "metadata": {
        "colab": {
          "base_uri": "https://localhost:8080/"
        },
        "id": "YPgmpBCLz0jg",
        "outputId": "b7774b59-70d3-466b-fe6c-2d41b42a2044"
      },
      "source": [
        "checkwave(x0,d,n)"
      ],
      "execution_count": 61,
      "outputs": [
        {
          "output_type": "execute_result",
          "data": {
            "text/plain": [
              "array([ 0.04969806, -0.03660526,  0.12152197,  0.15812105,  0.00174582,\n",
              "       -0.08842386,  0.01098561,  0.11794364,  0.07993183,  0.00894994,\n",
              "        0.06486665,  0.19248098,  0.22321394,  0.1256149 ,  0.0113877 ,\n",
              "       -0.04280699, -0.04891835, -0.01804348,  0.05785685,  0.13236795,\n",
              "        0.11551183, -0.00964823, -0.14361115, -0.17561266, -0.10074093,\n",
              "       -0.01671629, -0.02179796, -0.11370101, -0.17782652, -0.10100247,\n",
              "        0.08169091,  0.19872546,  0.14658578,  0.02959412,  0.01661196,\n",
              "        0.1041329 ,  0.14083868,  0.07500309,  0.0291225 ,  0.08316211,\n",
              "        0.12990081,  0.05582936, -0.03620432,  0.06593146,  0.38105062,\n",
              "        0.6650385 ,  0.6637255 ,  0.3707742 ,  0.03733499, -0.03445523,\n",
              "        0.23601529,  0.5627931 ,  0.49971744, -0.06333242, -0.66629225,\n",
              "       -0.7453274 , -0.3306914 , -0.0224925 , -0.18225968, -0.43757555,\n",
              "       -0.2333368 ,  0.34470558,  0.6703961 ,  0.44260654], dtype=float32)"
            ]
          },
          "metadata": {
            "tags": []
          },
          "execution_count": 61
        }
      ]
    },
    {
      "cell_type": "code",
      "metadata": {
        "id": "a24zzSd-Q7ga"
      },
      "source": [
        "def f(l):\n",
        "    x=np.linspace(0,1,2**n)\n",
        "    return np.linalg.norm(checkwave(l,d,n)-np.sin(np.pi*x)-np.sin(2*np.pi*x))**2"
      ],
      "execution_count": 168,
      "outputs": []
    },
    {
      "cell_type": "code",
      "metadata": {
        "id": "bi6V7v5kQ-9A"
      },
      "source": [
        "bounds = [[0,20]] #first bound is lambda0, best choice of bounds usually\n",
        "#depends on number of qubits we are using\n",
        "\n",
        "#the rest of the bounds are the angle theta in Ry(theta)\n",
        "for i in range(d*6*(6-1)+18):\n",
        "    bounds.append([0,2*np.pi])"
      ],
      "execution_count": 169,
      "outputs": []
    },
    {
      "cell_type": "code",
      "metadata": {
        "colab": {
          "base_uri": "https://localhost:8080/"
        },
        "id": "Xj9zaMEMRB6t",
        "outputId": "6a7446aa-e7c9-46f7-e5a5-5053b0237f55"
      },
      "source": [
        "budget = 20000\n",
        "print(len(bounds))"
      ],
      "execution_count": 158,
      "outputs": [
        {
          "output_type": "stream",
          "text": [
            "49\n"
          ],
          "name": "stdout"
        }
      ]
    },
    {
      "cell_type": "code",
      "metadata": {
        "colab": {
          "base_uri": "https://localhost:8080/"
        },
        "id": "n7exPLk_YnBL",
        "outputId": "613e1854-054a-43e9-82bc-e10c6ec51448"
      },
      "source": [
        "l=x0[1:d*6*(n-1)+1]\n",
        "print(len(l)==6*(n-1)*d)"
      ],
      "execution_count": 17,
      "outputs": [
        {
          "output_type": "stream",
          "text": [
            "False\n"
          ],
          "name": "stdout"
        }
      ]
    },
    {
      "cell_type": "code",
      "metadata": {
        "id": "jhIXWOduRF8h"
      },
      "source": [
        "x0=np.concatenate(([12*np.random.random()],2*np.pi*np.random.rand(d*6*(6-1)+18)))\n",
        "\n",
        "#Optimize using Imfil\n",
        "result, history = skqopt.minimize(f, x0, bounds, budget, method='imfil')"
      ],
      "execution_count": null,
      "outputs": []
    },
    {
      "cell_type": "code",
      "metadata": {
        "id": "hvM4-hhWyYUt"
      },
      "source": [
        "linit=result.optpar"
      ],
      "execution_count": 163,
      "outputs": []
    },
    {
      "cell_type": "code",
      "metadata": {
        "colab": {
          "base_uri": "https://localhost:8080/",
          "height": 269
        },
        "id": "uGg_MwPLyYUu",
        "outputId": "84296159-f44a-4ca3-c055-4ffe269150f6"
      },
      "source": [
        "fig = plt.figure()\n",
        "y=np.linspace(0,1,2**n)\n",
        "ax = plt.axes(xlim=(0, 1), ylim=(-1, 1))\n",
        "line, = ax.plot(y, checkwave(linit,d,n), 'r', lw=2)"
      ],
      "execution_count": 42,
      "outputs": [
        {
          "output_type": "display_data",
          "data": {
            "image/png": "[encoded data removed]",
            "text/plain": [
              "<Figure size 432x288 with 1 Axes>"
            ]
          },
          "metadata": {
            "tags": [],
            "needs_background": "light"
          }
        }
      ]
    },
    {
      "cell_type": "code",
      "metadata": {
        "colab": {
          "base_uri": "https://localhost:8080/",
          "height": 550
        },
        "id": "3cShbe5iRI3s",
        "outputId": "b982f8c9-45bd-48bc-9a23-59102243d94d"
      },
      "source": [
        "# got using rz only\n",
        "fig = plt.figure()\n",
        "y=np.linspace(0,1,2**n)\n",
        "ax = plt.axes(xlim=(0, 1), ylim=(-1, 2))\n",
        "line, = ax.plot(y, checkwave(linit,d,n), 'r', lw=2)\n",
        "line2, = ax.plot(y, np.sin(np.pi*y)+np.sin(2*np.pi*y))\n",
        "plt.xlabel('x')\n",
        "plt.ylabel('u(x,t=0)')\n",
        "plt.title('Exact sin(πx)+sin(2πx) v.s. QFT Ansatz Approx.')\n",
        "plt.savefig('qftplot.png')"
      ],
      "execution_count": 145,
      "outputs": [
        {
          "output_type": "stream",
          "text": [
            "(0, 0): ────────────────────────────────────────────────────────qft───\n",
            "                                                                │\n",
            "(0, 1): ────────────────────────────────────────────────────────#2────\n",
            "                                                                │\n",
            "(0, 2): ───<__main__.U object at 0x7f7149a01910>───Rz(2π)───────#3────\n",
            "           │                                                    │\n",
            "(0, 3): ───#2──────────────────────────────────────Rz(0.688π)───#4────\n",
            "           │                                                    │\n",
            "(0, 4): ───#3──────────────────────────────────────Rz(0.024π)───#5────\n",
            "           │                                                    │\n",
            "(0, 5): ───#4──────────────────────────────────────Rz(0.914π)───#6────\n",
            "           │                                                    │\n",
            "(0, 6): ───#5──────────────────────────────────────Rz(0)────────#7────\n",
            "           │                                                    │\n",
            "(0, 7): ───#6──────────────────────────────────────Rz(0.377π)───#8────\n"
          ],
          "name": "stdout"
        },
        {
          "output_type": "display_data",
          "data": {
            "image/png": "[encoded data removed]",
            "text/plain": [
              "<Figure size 432x288 with 1 Axes>"
            ]
          },
          "metadata": {
            "tags": [],
            "needs_background": "light"
          }
        }
      ]
    },
    {
      "cell_type": "code",
      "metadata": {
        "id": "ahCmJfs-gssg",
        "colab": {
          "base_uri": "https://localhost:8080/"
        },
        "outputId": "43cde6a7-3144-4a20-c108-df9278429d22"
      },
      "source": [
        "np.linalg.norm(checkwave(linit,d,n)-np.sin(np.pi*y)-np.sin(2*np.pi*y))"
      ],
      "execution_count": 147,
      "outputs": [
        {
          "output_type": "stream",
          "text": [
            "(0, 0): ────────────────────────────────────────────────────────qft───\n",
            "                                                                │\n",
            "(0, 1): ────────────────────────────────────────────────────────#2────\n",
            "                                                                │\n",
            "(0, 2): ───<__main__.U object at 0x7f7149673510>───Rz(2π)───────#3────\n",
            "           │                                                    │\n",
            "(0, 3): ───#2──────────────────────────────────────Rz(0.688π)───#4────\n",
            "           │                                                    │\n",
            "(0, 4): ───#3──────────────────────────────────────Rz(0.024π)───#5────\n",
            "           │                                                    │\n",
            "(0, 5): ───#4──────────────────────────────────────Rz(0.914π)───#6────\n",
            "           │                                                    │\n",
            "(0, 6): ───#5──────────────────────────────────────Rz(0)────────#7────\n",
            "           │                                                    │\n",
            "(0, 7): ───#6──────────────────────────────────────Rz(0.377π)───#8────\n"
          ],
          "name": "stdout"
        },
        {
          "output_type": "execute_result",
          "data": {
            "text/plain": [
              "3.9789822290815864"
            ]
          },
          "metadata": {
            "tags": []
          },
          "execution_count": 147
        }
      ]
    },
    {
      "cell_type": "code",
      "metadata": {
        "colab": {
          "base_uri": "https://localhost:8080/",
          "height": 550
        },
        "id": "hgUofYEjs0Zn",
        "outputId": "b7d45006-f892-4abf-f088-e6a0af407df8"
      },
      "source": [
        "# with decomposed SU2\n",
        "fig = plt.figure()\n",
        "y=np.linspace(0,1,2**n)\n",
        "ax = plt.axes(xlim=(0, 1), ylim=(-1, 2))\n",
        "line, = ax.plot(y, checkwave(linit,d,n), 'r', lw=2)\n",
        "line2, = ax.plot(y, np.sin(np.pi*y)+np.sin(2*np.pi*y))\n",
        "plt.xlabel('x')\n",
        "plt.ylabel('u(x,t=0)')\n",
        "plt.title('Exact sin(πx)+sin(2πx) v.s. QFT Ansatz Approx.')\n",
        "plt.savefig('qftplot.png')"
      ],
      "execution_count": 164,
      "outputs": [
        {
          "output_type": "stream",
          "text": [
            "(0, 0): ──────────────────────────────────────────────────────────────────────────────────qft───\n",
            "                                                                                          │\n",
            "(0, 1): ──────────────────────────────────────────────────────────────────────────────────#2────\n",
            "                                                                                          │\n",
            "(0, 2): ───<__main__.U object at 0x7f71525ae7d0>───Rz(1.11π)────Ry(0)────────Rz(1.35π)────#3────\n",
            "           │                                                                              │\n",
            "(0, 3): ───#2──────────────────────────────────────Rz(1.1π)─────Ry(1.0π)─────Rz(1.38π)────#4────\n",
            "           │                                                                              │\n",
            "(0, 4): ───#3──────────────────────────────────────Rz(2π)───────Ry(1.48π)────Rz(1.97π)────#5────\n",
            "           │                                                                              │\n",
            "(0, 5): ───#4──────────────────────────────────────Rz(2π)───────Ry(0.998π)───Rz(0.928π)───#6────\n",
            "           │                                                                              │\n",
            "(0, 6): ───#5──────────────────────────────────────Rz(0.047π)───Ry(1.86π)────Rz(0.598π)───#7────\n",
            "           │                                                                              │\n",
            "(0, 7): ───#6──────────────────────────────────────Rz(0.36π)────Ry(0.3π)─────Rz(0.854π)───#8────\n"
          ],
          "name": "stdout"
        },
        {
          "output_type": "display_data",
          "data": {
            "image/png": "[encoded data removed]",
            "text/plain": [
              "<Figure size 432x288 with 1 Axes>"
            ]
          },
          "metadata": {
            "tags": [],
            "needs_background": "light"
          }
        }
      ]
    },
    {
      "cell_type": "code",
      "metadata": {
        "colab": {
          "base_uri": "https://localhost:8080/"
        },
        "id": "KfL91DlCEFEk",
        "outputId": "798af476-2617-4e63-9b4a-def321e2eb61"
      },
      "source": [
        "np.linalg.norm(checkwave(linit,d,n)-np.sin(np.pi*y)-np.sin(2*np.pi*y))"
      ],
      "execution_count": 165,
      "outputs": [
        {
          "output_type": "stream",
          "text": [
            "(0, 0): ──────────────────────────────────────────────────────────────────────────────────qft───\n",
            "                                                                                          │\n",
            "(0, 1): ──────────────────────────────────────────────────────────────────────────────────#2────\n",
            "                                                                                          │\n",
            "(0, 2): ───<__main__.U object at 0x7f7152579910>───Rz(1.11π)────Ry(0)────────Rz(1.35π)────#3────\n",
            "           │                                                                              │\n",
            "(0, 3): ───#2──────────────────────────────────────Rz(1.1π)─────Ry(1.0π)─────Rz(1.38π)────#4────\n",
            "           │                                                                              │\n",
            "(0, 4): ───#3──────────────────────────────────────Rz(2π)───────Ry(1.48π)────Rz(1.97π)────#5────\n",
            "           │                                                                              │\n",
            "(0, 5): ───#4──────────────────────────────────────Rz(2π)───────Ry(0.998π)───Rz(0.928π)───#6────\n",
            "           │                                                                              │\n",
            "(0, 6): ───#5──────────────────────────────────────Rz(0.047π)───Ry(1.86π)────Rz(0.598π)───#7────\n",
            "           │                                                                              │\n",
            "(0, 7): ───#6──────────────────────────────────────Rz(0.36π)────Ry(0.3π)─────Rz(0.854π)───#8────\n"
          ],
          "name": "stdout"
        },
        {
          "output_type": "execute_result",
          "data": {
            "text/plain": [
              "0.4022550433161921"
            ]
          },
          "metadata": {
            "tags": []
          },
          "execution_count": 165
        }
      ]
    },
    {
      "cell_type": "code",
      "metadata": {
        "colab": {
          "base_uri": "https://localhost:8080/"
        },
        "id": "QSDv7GgMKPg-",
        "outputId": "4c46788c-243d-4370-a8e7-6bcefa552abd"
      },
      "source": [
        "# using SU2\n",
        "param=[]\n",
        "for i in range(10):\n",
        "    x0=np.concatenate(([12*np.random.random()],2*np.pi*np.random.rand(d*6*(6-1)+18)))\n",
        "    #Optimize using Imfil\n",
        "    result, history = skqopt.minimize(f, x0, bounds, budget, method='imfil')\n",
        "    ltrial=result.optpar\n",
        "    param.append(ltrial)\n",
        "    print(f(ltrial))"
      ],
      "execution_count": 171,
      "outputs": [
        {
          "output_type": "stream",
          "text": [
            "0.29341208126495716\n",
            "0.11298723399963369\n",
            "0.11039773973185649\n",
            "0.9240905621092149\n",
            "0.14054169116918877\n",
            "0.14999758820201367\n",
            "1.1419955264085628\n",
            "0.8317558614786863\n",
            "1.0336947881906584\n",
            "0.1139312119584269\n"
          ],
          "name": "stdout"
        }
      ]
    },
    {
      "cell_type": "code",
      "metadata": {
        "colab": {
          "base_uri": "https://localhost:8080/"
        },
        "id": "2NPtupKYQf_o",
        "outputId": "f0db0891-35ce-4ab6-8a1b-b26f5d62eb62"
      },
      "source": [
        "f(param[2])"
      ],
      "execution_count": 175,
      "outputs": [
        {
          "output_type": "execute_result",
          "data": {
            "text/plain": [
              "0.11039773973185649"
            ]
          },
          "metadata": {
            "tags": []
          },
          "execution_count": 175
        }
      ]
    },
    {
      "cell_type": "code",
      "metadata": {
        "id": "szunPcRdafd-"
      },
      "source": [
        "# using rz only\n",
        "param=[]\n",
        "for i in range(10):\n",
        "    x0=np.concatenate(([12*np.random.random()],2*np.pi*np.random.rand(d*6*(6-1)+18)))\n",
        "    #Optimize using Imfil\n",
        "    result, history = skqopt.minimize(f, x0, bounds, budget, method='imfil')\n",
        "    ltrial=result.optpar\n",
        "    param.append(ltrial)\n",
        "    print(f(ltrial))"
      ],
      "execution_count": null,
      "outputs": []
    }
  ]
}